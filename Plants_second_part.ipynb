{
  "nbformat": 4,
  "nbformat_minor": 0,
  "metadata": {
    "colab": {
      "provenance": []
    },
    "kernelspec": {
      "name": "python3",
      "display_name": "Python 3"
    },
    "language_info": {
      "name": "python"
    },
    "accelerator": "GPU",
    "gpuClass": "standard",
    "widgets": {
      "application/vnd.jupyter.widget-state+json": {
        "4f40991abfdc46b7a40e2367e4ad00d0": {
          "model_module": "@jupyter-widgets/controls",
          "model_name": "HBoxModel",
          "model_module_version": "1.5.0",
          "state": {
            "_dom_classes": [],
            "_model_module": "@jupyter-widgets/controls",
            "_model_module_version": "1.5.0",
            "_model_name": "HBoxModel",
            "_view_count": null,
            "_view_module": "@jupyter-widgets/controls",
            "_view_module_version": "1.5.0",
            "_view_name": "HBoxView",
            "box_style": "",
            "children": [
              "IPY_MODEL_adfa7ab619db4dff8c83509d6fb41950",
              "IPY_MODEL_8bd15185dd1848d492698b9aaf6d5111",
              "IPY_MODEL_4266f3e0c7ed495c9845e9deea55daa2"
            ],
            "layout": "IPY_MODEL_7bbf0d9494a64c62a07d12850c1f40bc"
          }
        },
        "adfa7ab619db4dff8c83509d6fb41950": {
          "model_module": "@jupyter-widgets/controls",
          "model_name": "HTMLModel",
          "model_module_version": "1.5.0",
          "state": {
            "_dom_classes": [],
            "_model_module": "@jupyter-widgets/controls",
            "_model_module_version": "1.5.0",
            "_model_name": "HTMLModel",
            "_view_count": null,
            "_view_module": "@jupyter-widgets/controls",
            "_view_module_version": "1.5.0",
            "_view_name": "HTMLView",
            "description": "",
            "description_tooltip": null,
            "layout": "IPY_MODEL_f368ac763dea41d9ba4556f36c29a8f1",
            "placeholder": "​",
            "style": "IPY_MODEL_840bf818929541cead85807888102dbf",
            "value": "100%"
          }
        },
        "8bd15185dd1848d492698b9aaf6d5111": {
          "model_module": "@jupyter-widgets/controls",
          "model_name": "FloatProgressModel",
          "model_module_version": "1.5.0",
          "state": {
            "_dom_classes": [],
            "_model_module": "@jupyter-widgets/controls",
            "_model_module_version": "1.5.0",
            "_model_name": "FloatProgressModel",
            "_view_count": null,
            "_view_module": "@jupyter-widgets/controls",
            "_view_module_version": "1.5.0",
            "_view_name": "ProgressView",
            "bar_style": "success",
            "description": "",
            "description_tooltip": null,
            "layout": "IPY_MODEL_da33e51c6edb42439377fde8085d2c1f",
            "max": 3040,
            "min": 0,
            "orientation": "horizontal",
            "style": "IPY_MODEL_dfb29be5a58a403b8e22ab47ff531622",
            "value": 3040
          }
        },
        "4266f3e0c7ed495c9845e9deea55daa2": {
          "model_module": "@jupyter-widgets/controls",
          "model_name": "HTMLModel",
          "model_module_version": "1.5.0",
          "state": {
            "_dom_classes": [],
            "_model_module": "@jupyter-widgets/controls",
            "_model_module_version": "1.5.0",
            "_model_name": "HTMLModel",
            "_view_count": null,
            "_view_module": "@jupyter-widgets/controls",
            "_view_module_version": "1.5.0",
            "_view_name": "HTMLView",
            "description": "",
            "description_tooltip": null,
            "layout": "IPY_MODEL_4d326ddc90fb4974a0eb0ab889950066",
            "placeholder": "​",
            "style": "IPY_MODEL_21d69ae90e3d41a79365384d3fc0dfdb",
            "value": " 3040/3040 [00:46&lt;00:00, 75.49it/s]"
          }
        },
        "7bbf0d9494a64c62a07d12850c1f40bc": {
          "model_module": "@jupyter-widgets/base",
          "model_name": "LayoutModel",
          "model_module_version": "1.2.0",
          "state": {
            "_model_module": "@jupyter-widgets/base",
            "_model_module_version": "1.2.0",
            "_model_name": "LayoutModel",
            "_view_count": null,
            "_view_module": "@jupyter-widgets/base",
            "_view_module_version": "1.2.0",
            "_view_name": "LayoutView",
            "align_content": null,
            "align_items": null,
            "align_self": null,
            "border": null,
            "bottom": null,
            "display": null,
            "flex": null,
            "flex_flow": null,
            "grid_area": null,
            "grid_auto_columns": null,
            "grid_auto_flow": null,
            "grid_auto_rows": null,
            "grid_column": null,
            "grid_gap": null,
            "grid_row": null,
            "grid_template_areas": null,
            "grid_template_columns": null,
            "grid_template_rows": null,
            "height": null,
            "justify_content": null,
            "justify_items": null,
            "left": null,
            "margin": null,
            "max_height": null,
            "max_width": null,
            "min_height": null,
            "min_width": null,
            "object_fit": null,
            "object_position": null,
            "order": null,
            "overflow": null,
            "overflow_x": null,
            "overflow_y": null,
            "padding": null,
            "right": null,
            "top": null,
            "visibility": null,
            "width": null
          }
        },
        "f368ac763dea41d9ba4556f36c29a8f1": {
          "model_module": "@jupyter-widgets/base",
          "model_name": "LayoutModel",
          "model_module_version": "1.2.0",
          "state": {
            "_model_module": "@jupyter-widgets/base",
            "_model_module_version": "1.2.0",
            "_model_name": "LayoutModel",
            "_view_count": null,
            "_view_module": "@jupyter-widgets/base",
            "_view_module_version": "1.2.0",
            "_view_name": "LayoutView",
            "align_content": null,
            "align_items": null,
            "align_self": null,
            "border": null,
            "bottom": null,
            "display": null,
            "flex": null,
            "flex_flow": null,
            "grid_area": null,
            "grid_auto_columns": null,
            "grid_auto_flow": null,
            "grid_auto_rows": null,
            "grid_column": null,
            "grid_gap": null,
            "grid_row": null,
            "grid_template_areas": null,
            "grid_template_columns": null,
            "grid_template_rows": null,
            "height": null,
            "justify_content": null,
            "justify_items": null,
            "left": null,
            "margin": null,
            "max_height": null,
            "max_width": null,
            "min_height": null,
            "min_width": null,
            "object_fit": null,
            "object_position": null,
            "order": null,
            "overflow": null,
            "overflow_x": null,
            "overflow_y": null,
            "padding": null,
            "right": null,
            "top": null,
            "visibility": null,
            "width": null
          }
        },
        "840bf818929541cead85807888102dbf": {
          "model_module": "@jupyter-widgets/controls",
          "model_name": "DescriptionStyleModel",
          "model_module_version": "1.5.0",
          "state": {
            "_model_module": "@jupyter-widgets/controls",
            "_model_module_version": "1.5.0",
            "_model_name": "DescriptionStyleModel",
            "_view_count": null,
            "_view_module": "@jupyter-widgets/base",
            "_view_module_version": "1.2.0",
            "_view_name": "StyleView",
            "description_width": ""
          }
        },
        "da33e51c6edb42439377fde8085d2c1f": {
          "model_module": "@jupyter-widgets/base",
          "model_name": "LayoutModel",
          "model_module_version": "1.2.0",
          "state": {
            "_model_module": "@jupyter-widgets/base",
            "_model_module_version": "1.2.0",
            "_model_name": "LayoutModel",
            "_view_count": null,
            "_view_module": "@jupyter-widgets/base",
            "_view_module_version": "1.2.0",
            "_view_name": "LayoutView",
            "align_content": null,
            "align_items": null,
            "align_self": null,
            "border": null,
            "bottom": null,
            "display": null,
            "flex": null,
            "flex_flow": null,
            "grid_area": null,
            "grid_auto_columns": null,
            "grid_auto_flow": null,
            "grid_auto_rows": null,
            "grid_column": null,
            "grid_gap": null,
            "grid_row": null,
            "grid_template_areas": null,
            "grid_template_columns": null,
            "grid_template_rows": null,
            "height": null,
            "justify_content": null,
            "justify_items": null,
            "left": null,
            "margin": null,
            "max_height": null,
            "max_width": null,
            "min_height": null,
            "min_width": null,
            "object_fit": null,
            "object_position": null,
            "order": null,
            "overflow": null,
            "overflow_x": null,
            "overflow_y": null,
            "padding": null,
            "right": null,
            "top": null,
            "visibility": null,
            "width": null
          }
        },
        "dfb29be5a58a403b8e22ab47ff531622": {
          "model_module": "@jupyter-widgets/controls",
          "model_name": "ProgressStyleModel",
          "model_module_version": "1.5.0",
          "state": {
            "_model_module": "@jupyter-widgets/controls",
            "_model_module_version": "1.5.0",
            "_model_name": "ProgressStyleModel",
            "_view_count": null,
            "_view_module": "@jupyter-widgets/base",
            "_view_module_version": "1.2.0",
            "_view_name": "StyleView",
            "bar_color": null,
            "description_width": ""
          }
        },
        "4d326ddc90fb4974a0eb0ab889950066": {
          "model_module": "@jupyter-widgets/base",
          "model_name": "LayoutModel",
          "model_module_version": "1.2.0",
          "state": {
            "_model_module": "@jupyter-widgets/base",
            "_model_module_version": "1.2.0",
            "_model_name": "LayoutModel",
            "_view_count": null,
            "_view_module": "@jupyter-widgets/base",
            "_view_module_version": "1.2.0",
            "_view_name": "LayoutView",
            "align_content": null,
            "align_items": null,
            "align_self": null,
            "border": null,
            "bottom": null,
            "display": null,
            "flex": null,
            "flex_flow": null,
            "grid_area": null,
            "grid_auto_columns": null,
            "grid_auto_flow": null,
            "grid_auto_rows": null,
            "grid_column": null,
            "grid_gap": null,
            "grid_row": null,
            "grid_template_areas": null,
            "grid_template_columns": null,
            "grid_template_rows": null,
            "height": null,
            "justify_content": null,
            "justify_items": null,
            "left": null,
            "margin": null,
            "max_height": null,
            "max_width": null,
            "min_height": null,
            "min_width": null,
            "object_fit": null,
            "object_position": null,
            "order": null,
            "overflow": null,
            "overflow_x": null,
            "overflow_y": null,
            "padding": null,
            "right": null,
            "top": null,
            "visibility": null,
            "width": null
          }
        },
        "21d69ae90e3d41a79365384d3fc0dfdb": {
          "model_module": "@jupyter-widgets/controls",
          "model_name": "DescriptionStyleModel",
          "model_module_version": "1.5.0",
          "state": {
            "_model_module": "@jupyter-widgets/controls",
            "_model_module_version": "1.5.0",
            "_model_name": "DescriptionStyleModel",
            "_view_count": null,
            "_view_module": "@jupyter-widgets/base",
            "_view_module_version": "1.2.0",
            "_view_name": "StyleView",
            "description_width": ""
          }
        },
        "c984a01d2ffc49e9abb5bd7b7ad5da89": {
          "model_module": "@jupyter-widgets/controls",
          "model_name": "HBoxModel",
          "model_module_version": "1.5.0",
          "state": {
            "_dom_classes": [],
            "_model_module": "@jupyter-widgets/controls",
            "_model_module_version": "1.5.0",
            "_model_name": "HBoxModel",
            "_view_count": null,
            "_view_module": "@jupyter-widgets/controls",
            "_view_module_version": "1.5.0",
            "_view_name": "HBoxView",
            "box_style": "",
            "children": [
              "IPY_MODEL_94c427dbb2944b96be2c73941ed5732a",
              "IPY_MODEL_27f74cf4e47740fc9ec2fbe28707bdf9",
              "IPY_MODEL_6425887405eb40ee9f5a55403e2b982e"
            ],
            "layout": "IPY_MODEL_198d83100aa2412d9f237b1aae63592f"
          }
        },
        "94c427dbb2944b96be2c73941ed5732a": {
          "model_module": "@jupyter-widgets/controls",
          "model_name": "HTMLModel",
          "model_module_version": "1.5.0",
          "state": {
            "_dom_classes": [],
            "_model_module": "@jupyter-widgets/controls",
            "_model_module_version": "1.5.0",
            "_model_name": "HTMLModel",
            "_view_count": null,
            "_view_module": "@jupyter-widgets/controls",
            "_view_module_version": "1.5.0",
            "_view_name": "HTMLView",
            "description": "",
            "description_tooltip": null,
            "layout": "IPY_MODEL_167d9b16b9ac4377b9359c986b83d0b1",
            "placeholder": "​",
            "style": "IPY_MODEL_066467f63af047ec835bc11717f56d8c",
            "value": "100%"
          }
        },
        "27f74cf4e47740fc9ec2fbe28707bdf9": {
          "model_module": "@jupyter-widgets/controls",
          "model_name": "FloatProgressModel",
          "model_module_version": "1.5.0",
          "state": {
            "_dom_classes": [],
            "_model_module": "@jupyter-widgets/controls",
            "_model_module_version": "1.5.0",
            "_model_name": "FloatProgressModel",
            "_view_count": null,
            "_view_module": "@jupyter-widgets/controls",
            "_view_module_version": "1.5.0",
            "_view_name": "ProgressView",
            "bar_style": "success",
            "description": "",
            "description_tooltip": null,
            "layout": "IPY_MODEL_537b213e1e664724a36c06a7aef4e622",
            "max": 3040,
            "min": 0,
            "orientation": "horizontal",
            "style": "IPY_MODEL_d92522226192458593843f6a390769e7",
            "value": 3040
          }
        },
        "6425887405eb40ee9f5a55403e2b982e": {
          "model_module": "@jupyter-widgets/controls",
          "model_name": "HTMLModel",
          "model_module_version": "1.5.0",
          "state": {
            "_dom_classes": [],
            "_model_module": "@jupyter-widgets/controls",
            "_model_module_version": "1.5.0",
            "_model_name": "HTMLModel",
            "_view_count": null,
            "_view_module": "@jupyter-widgets/controls",
            "_view_module_version": "1.5.0",
            "_view_name": "HTMLView",
            "description": "",
            "description_tooltip": null,
            "layout": "IPY_MODEL_6c58b00ce96a4570891ddc2eebe5d089",
            "placeholder": "​",
            "style": "IPY_MODEL_e1a43ab35463479fbece79454ab3428d",
            "value": " 3040/3040 [00:41&lt;00:00, 56.63it/s]"
          }
        },
        "198d83100aa2412d9f237b1aae63592f": {
          "model_module": "@jupyter-widgets/base",
          "model_name": "LayoutModel",
          "model_module_version": "1.2.0",
          "state": {
            "_model_module": "@jupyter-widgets/base",
            "_model_module_version": "1.2.0",
            "_model_name": "LayoutModel",
            "_view_count": null,
            "_view_module": "@jupyter-widgets/base",
            "_view_module_version": "1.2.0",
            "_view_name": "LayoutView",
            "align_content": null,
            "align_items": null,
            "align_self": null,
            "border": null,
            "bottom": null,
            "display": null,
            "flex": null,
            "flex_flow": null,
            "grid_area": null,
            "grid_auto_columns": null,
            "grid_auto_flow": null,
            "grid_auto_rows": null,
            "grid_column": null,
            "grid_gap": null,
            "grid_row": null,
            "grid_template_areas": null,
            "grid_template_columns": null,
            "grid_template_rows": null,
            "height": null,
            "justify_content": null,
            "justify_items": null,
            "left": null,
            "margin": null,
            "max_height": null,
            "max_width": null,
            "min_height": null,
            "min_width": null,
            "object_fit": null,
            "object_position": null,
            "order": null,
            "overflow": null,
            "overflow_x": null,
            "overflow_y": null,
            "padding": null,
            "right": null,
            "top": null,
            "visibility": null,
            "width": null
          }
        },
        "167d9b16b9ac4377b9359c986b83d0b1": {
          "model_module": "@jupyter-widgets/base",
          "model_name": "LayoutModel",
          "model_module_version": "1.2.0",
          "state": {
            "_model_module": "@jupyter-widgets/base",
            "_model_module_version": "1.2.0",
            "_model_name": "LayoutModel",
            "_view_count": null,
            "_view_module": "@jupyter-widgets/base",
            "_view_module_version": "1.2.0",
            "_view_name": "LayoutView",
            "align_content": null,
            "align_items": null,
            "align_self": null,
            "border": null,
            "bottom": null,
            "display": null,
            "flex": null,
            "flex_flow": null,
            "grid_area": null,
            "grid_auto_columns": null,
            "grid_auto_flow": null,
            "grid_auto_rows": null,
            "grid_column": null,
            "grid_gap": null,
            "grid_row": null,
            "grid_template_areas": null,
            "grid_template_columns": null,
            "grid_template_rows": null,
            "height": null,
            "justify_content": null,
            "justify_items": null,
            "left": null,
            "margin": null,
            "max_height": null,
            "max_width": null,
            "min_height": null,
            "min_width": null,
            "object_fit": null,
            "object_position": null,
            "order": null,
            "overflow": null,
            "overflow_x": null,
            "overflow_y": null,
            "padding": null,
            "right": null,
            "top": null,
            "visibility": null,
            "width": null
          }
        },
        "066467f63af047ec835bc11717f56d8c": {
          "model_module": "@jupyter-widgets/controls",
          "model_name": "DescriptionStyleModel",
          "model_module_version": "1.5.0",
          "state": {
            "_model_module": "@jupyter-widgets/controls",
            "_model_module_version": "1.5.0",
            "_model_name": "DescriptionStyleModel",
            "_view_count": null,
            "_view_module": "@jupyter-widgets/base",
            "_view_module_version": "1.2.0",
            "_view_name": "StyleView",
            "description_width": ""
          }
        },
        "537b213e1e664724a36c06a7aef4e622": {
          "model_module": "@jupyter-widgets/base",
          "model_name": "LayoutModel",
          "model_module_version": "1.2.0",
          "state": {
            "_model_module": "@jupyter-widgets/base",
            "_model_module_version": "1.2.0",
            "_model_name": "LayoutModel",
            "_view_count": null,
            "_view_module": "@jupyter-widgets/base",
            "_view_module_version": "1.2.0",
            "_view_name": "LayoutView",
            "align_content": null,
            "align_items": null,
            "align_self": null,
            "border": null,
            "bottom": null,
            "display": null,
            "flex": null,
            "flex_flow": null,
            "grid_area": null,
            "grid_auto_columns": null,
            "grid_auto_flow": null,
            "grid_auto_rows": null,
            "grid_column": null,
            "grid_gap": null,
            "grid_row": null,
            "grid_template_areas": null,
            "grid_template_columns": null,
            "grid_template_rows": null,
            "height": null,
            "justify_content": null,
            "justify_items": null,
            "left": null,
            "margin": null,
            "max_height": null,
            "max_width": null,
            "min_height": null,
            "min_width": null,
            "object_fit": null,
            "object_position": null,
            "order": null,
            "overflow": null,
            "overflow_x": null,
            "overflow_y": null,
            "padding": null,
            "right": null,
            "top": null,
            "visibility": null,
            "width": null
          }
        },
        "d92522226192458593843f6a390769e7": {
          "model_module": "@jupyter-widgets/controls",
          "model_name": "ProgressStyleModel",
          "model_module_version": "1.5.0",
          "state": {
            "_model_module": "@jupyter-widgets/controls",
            "_model_module_version": "1.5.0",
            "_model_name": "ProgressStyleModel",
            "_view_count": null,
            "_view_module": "@jupyter-widgets/base",
            "_view_module_version": "1.2.0",
            "_view_name": "StyleView",
            "bar_color": null,
            "description_width": ""
          }
        },
        "6c58b00ce96a4570891ddc2eebe5d089": {
          "model_module": "@jupyter-widgets/base",
          "model_name": "LayoutModel",
          "model_module_version": "1.2.0",
          "state": {
            "_model_module": "@jupyter-widgets/base",
            "_model_module_version": "1.2.0",
            "_model_name": "LayoutModel",
            "_view_count": null,
            "_view_module": "@jupyter-widgets/base",
            "_view_module_version": "1.2.0",
            "_view_name": "LayoutView",
            "align_content": null,
            "align_items": null,
            "align_self": null,
            "border": null,
            "bottom": null,
            "display": null,
            "flex": null,
            "flex_flow": null,
            "grid_area": null,
            "grid_auto_columns": null,
            "grid_auto_flow": null,
            "grid_auto_rows": null,
            "grid_column": null,
            "grid_gap": null,
            "grid_row": null,
            "grid_template_areas": null,
            "grid_template_columns": null,
            "grid_template_rows": null,
            "height": null,
            "justify_content": null,
            "justify_items": null,
            "left": null,
            "margin": null,
            "max_height": null,
            "max_width": null,
            "min_height": null,
            "min_width": null,
            "object_fit": null,
            "object_position": null,
            "order": null,
            "overflow": null,
            "overflow_x": null,
            "overflow_y": null,
            "padding": null,
            "right": null,
            "top": null,
            "visibility": null,
            "width": null
          }
        },
        "e1a43ab35463479fbece79454ab3428d": {
          "model_module": "@jupyter-widgets/controls",
          "model_name": "DescriptionStyleModel",
          "model_module_version": "1.5.0",
          "state": {
            "_model_module": "@jupyter-widgets/controls",
            "_model_module_version": "1.5.0",
            "_model_name": "DescriptionStyleModel",
            "_view_count": null,
            "_view_module": "@jupyter-widgets/base",
            "_view_module_version": "1.2.0",
            "_view_name": "StyleView",
            "description_width": ""
          }
        },
        "ace00940e5bb4b9ab7529c6987fc40de": {
          "model_module": "@jupyter-widgets/controls",
          "model_name": "HBoxModel",
          "model_module_version": "1.5.0",
          "state": {
            "_dom_classes": [],
            "_model_module": "@jupyter-widgets/controls",
            "_model_module_version": "1.5.0",
            "_model_name": "HBoxModel",
            "_view_count": null,
            "_view_module": "@jupyter-widgets/controls",
            "_view_module_version": "1.5.0",
            "_view_name": "HBoxView",
            "box_style": "",
            "children": [
              "IPY_MODEL_1524f015f8df4551b8a75f343de0748f",
              "IPY_MODEL_ff03e126ea7343069563eed0192a52cd",
              "IPY_MODEL_87857924b116439bacc0966fb14d9aa5"
            ],
            "layout": "IPY_MODEL_88a7950622ba44d6b314c55eaf02f518"
          }
        },
        "1524f015f8df4551b8a75f343de0748f": {
          "model_module": "@jupyter-widgets/controls",
          "model_name": "HTMLModel",
          "model_module_version": "1.5.0",
          "state": {
            "_dom_classes": [],
            "_model_module": "@jupyter-widgets/controls",
            "_model_module_version": "1.5.0",
            "_model_name": "HTMLModel",
            "_view_count": null,
            "_view_module": "@jupyter-widgets/controls",
            "_view_module_version": "1.5.0",
            "_view_name": "HTMLView",
            "description": "",
            "description_tooltip": null,
            "layout": "IPY_MODEL_c041b33fdf0243d4b604c28288b2201c",
            "placeholder": "​",
            "style": "IPY_MODEL_96994681d76544a0afa5e45fb9fc4560",
            "value": "100%"
          }
        },
        "ff03e126ea7343069563eed0192a52cd": {
          "model_module": "@jupyter-widgets/controls",
          "model_name": "FloatProgressModel",
          "model_module_version": "1.5.0",
          "state": {
            "_dom_classes": [],
            "_model_module": "@jupyter-widgets/controls",
            "_model_module_version": "1.5.0",
            "_model_name": "FloatProgressModel",
            "_view_count": null,
            "_view_module": "@jupyter-widgets/controls",
            "_view_module_version": "1.5.0",
            "_view_name": "ProgressView",
            "bar_style": "success",
            "description": "",
            "description_tooltip": null,
            "layout": "IPY_MODEL_077567da0b704b7999002cf799f19bad",
            "max": 31519111,
            "min": 0,
            "orientation": "horizontal",
            "style": "IPY_MODEL_a18cea1ec21249c8a580aef73dd39351",
            "value": 31519111
          }
        },
        "87857924b116439bacc0966fb14d9aa5": {
          "model_module": "@jupyter-widgets/controls",
          "model_name": "HTMLModel",
          "model_module_version": "1.5.0",
          "state": {
            "_dom_classes": [],
            "_model_module": "@jupyter-widgets/controls",
            "_model_module_version": "1.5.0",
            "_model_name": "HTMLModel",
            "_view_count": null,
            "_view_module": "@jupyter-widgets/controls",
            "_view_module_version": "1.5.0",
            "_view_name": "HTMLView",
            "description": "",
            "description_tooltip": null,
            "layout": "IPY_MODEL_1400cefec545437382796a8a0f461753",
            "placeholder": "​",
            "style": "IPY_MODEL_69a2d51371e34ac9b1fcd32d0368d016",
            "value": " 30.1M/30.1M [00:00&lt;00:00, 94.5MB/s]"
          }
        },
        "88a7950622ba44d6b314c55eaf02f518": {
          "model_module": "@jupyter-widgets/base",
          "model_name": "LayoutModel",
          "model_module_version": "1.2.0",
          "state": {
            "_model_module": "@jupyter-widgets/base",
            "_model_module_version": "1.2.0",
            "_model_name": "LayoutModel",
            "_view_count": null,
            "_view_module": "@jupyter-widgets/base",
            "_view_module_version": "1.2.0",
            "_view_name": "LayoutView",
            "align_content": null,
            "align_items": null,
            "align_self": null,
            "border": null,
            "bottom": null,
            "display": null,
            "flex": null,
            "flex_flow": null,
            "grid_area": null,
            "grid_auto_columns": null,
            "grid_auto_flow": null,
            "grid_auto_rows": null,
            "grid_column": null,
            "grid_gap": null,
            "grid_row": null,
            "grid_template_areas": null,
            "grid_template_columns": null,
            "grid_template_rows": null,
            "height": null,
            "justify_content": null,
            "justify_items": null,
            "left": null,
            "margin": null,
            "max_height": null,
            "max_width": null,
            "min_height": null,
            "min_width": null,
            "object_fit": null,
            "object_position": null,
            "order": null,
            "overflow": null,
            "overflow_x": null,
            "overflow_y": null,
            "padding": null,
            "right": null,
            "top": null,
            "visibility": null,
            "width": null
          }
        },
        "c041b33fdf0243d4b604c28288b2201c": {
          "model_module": "@jupyter-widgets/base",
          "model_name": "LayoutModel",
          "model_module_version": "1.2.0",
          "state": {
            "_model_module": "@jupyter-widgets/base",
            "_model_module_version": "1.2.0",
            "_model_name": "LayoutModel",
            "_view_count": null,
            "_view_module": "@jupyter-widgets/base",
            "_view_module_version": "1.2.0",
            "_view_name": "LayoutView",
            "align_content": null,
            "align_items": null,
            "align_self": null,
            "border": null,
            "bottom": null,
            "display": null,
            "flex": null,
            "flex_flow": null,
            "grid_area": null,
            "grid_auto_columns": null,
            "grid_auto_flow": null,
            "grid_auto_rows": null,
            "grid_column": null,
            "grid_gap": null,
            "grid_row": null,
            "grid_template_areas": null,
            "grid_template_columns": null,
            "grid_template_rows": null,
            "height": null,
            "justify_content": null,
            "justify_items": null,
            "left": null,
            "margin": null,
            "max_height": null,
            "max_width": null,
            "min_height": null,
            "min_width": null,
            "object_fit": null,
            "object_position": null,
            "order": null,
            "overflow": null,
            "overflow_x": null,
            "overflow_y": null,
            "padding": null,
            "right": null,
            "top": null,
            "visibility": null,
            "width": null
          }
        },
        "96994681d76544a0afa5e45fb9fc4560": {
          "model_module": "@jupyter-widgets/controls",
          "model_name": "DescriptionStyleModel",
          "model_module_version": "1.5.0",
          "state": {
            "_model_module": "@jupyter-widgets/controls",
            "_model_module_version": "1.5.0",
            "_model_name": "DescriptionStyleModel",
            "_view_count": null,
            "_view_module": "@jupyter-widgets/base",
            "_view_module_version": "1.2.0",
            "_view_name": "StyleView",
            "description_width": ""
          }
        },
        "077567da0b704b7999002cf799f19bad": {
          "model_module": "@jupyter-widgets/base",
          "model_name": "LayoutModel",
          "model_module_version": "1.2.0",
          "state": {
            "_model_module": "@jupyter-widgets/base",
            "_model_module_version": "1.2.0",
            "_model_name": "LayoutModel",
            "_view_count": null,
            "_view_module": "@jupyter-widgets/base",
            "_view_module_version": "1.2.0",
            "_view_name": "LayoutView",
            "align_content": null,
            "align_items": null,
            "align_self": null,
            "border": null,
            "bottom": null,
            "display": null,
            "flex": null,
            "flex_flow": null,
            "grid_area": null,
            "grid_auto_columns": null,
            "grid_auto_flow": null,
            "grid_auto_rows": null,
            "grid_column": null,
            "grid_gap": null,
            "grid_row": null,
            "grid_template_areas": null,
            "grid_template_columns": null,
            "grid_template_rows": null,
            "height": null,
            "justify_content": null,
            "justify_items": null,
            "left": null,
            "margin": null,
            "max_height": null,
            "max_width": null,
            "min_height": null,
            "min_width": null,
            "object_fit": null,
            "object_position": null,
            "order": null,
            "overflow": null,
            "overflow_x": null,
            "overflow_y": null,
            "padding": null,
            "right": null,
            "top": null,
            "visibility": null,
            "width": null
          }
        },
        "a18cea1ec21249c8a580aef73dd39351": {
          "model_module": "@jupyter-widgets/controls",
          "model_name": "ProgressStyleModel",
          "model_module_version": "1.5.0",
          "state": {
            "_model_module": "@jupyter-widgets/controls",
            "_model_module_version": "1.5.0",
            "_model_name": "ProgressStyleModel",
            "_view_count": null,
            "_view_module": "@jupyter-widgets/base",
            "_view_module_version": "1.2.0",
            "_view_name": "StyleView",
            "bar_color": null,
            "description_width": ""
          }
        },
        "1400cefec545437382796a8a0f461753": {
          "model_module": "@jupyter-widgets/base",
          "model_name": "LayoutModel",
          "model_module_version": "1.2.0",
          "state": {
            "_model_module": "@jupyter-widgets/base",
            "_model_module_version": "1.2.0",
            "_model_name": "LayoutModel",
            "_view_count": null,
            "_view_module": "@jupyter-widgets/base",
            "_view_module_version": "1.2.0",
            "_view_name": "LayoutView",
            "align_content": null,
            "align_items": null,
            "align_self": null,
            "border": null,
            "bottom": null,
            "display": null,
            "flex": null,
            "flex_flow": null,
            "grid_area": null,
            "grid_auto_columns": null,
            "grid_auto_flow": null,
            "grid_auto_rows": null,
            "grid_column": null,
            "grid_gap": null,
            "grid_row": null,
            "grid_template_areas": null,
            "grid_template_columns": null,
            "grid_template_rows": null,
            "height": null,
            "justify_content": null,
            "justify_items": null,
            "left": null,
            "margin": null,
            "max_height": null,
            "max_width": null,
            "min_height": null,
            "min_width": null,
            "object_fit": null,
            "object_position": null,
            "order": null,
            "overflow": null,
            "overflow_x": null,
            "overflow_y": null,
            "padding": null,
            "right": null,
            "top": null,
            "visibility": null,
            "width": null
          }
        },
        "69a2d51371e34ac9b1fcd32d0368d016": {
          "model_module": "@jupyter-widgets/controls",
          "model_name": "DescriptionStyleModel",
          "model_module_version": "1.5.0",
          "state": {
            "_model_module": "@jupyter-widgets/controls",
            "_model_module_version": "1.5.0",
            "_model_name": "DescriptionStyleModel",
            "_view_count": null,
            "_view_module": "@jupyter-widgets/base",
            "_view_module_version": "1.2.0",
            "_view_name": "StyleView",
            "description_width": ""
          }
        }
      }
    }
  },
  "cells": [
    {
      "cell_type": "code",
      "execution_count": 1,
      "metadata": {
        "colab": {
          "base_uri": "https://localhost:8080/"
        },
        "id": "OsgEirhinaPV",
        "outputId": "f54f3c96-a4f7-4a54-cd34-53eb3ea70159"
      },
      "outputs": [
        {
          "output_type": "stream",
          "name": "stdout",
          "text": [
            "Mounted at /content/drive\n"
          ]
        }
      ],
      "source": [
        "from google.colab import drive\n",
        "drive.mount('/content/drive')"
      ]
    },
    {
      "cell_type": "code",
      "source": [
        "\n",
        "import numpy as np\n",
        "import pandas as pd\n",
        "import torch\n",
        "from torch import nn\n",
        "import torch.nn.functional as F\n",
        "from torchvision import transforms, datasets, models\n",
        "import matplotlib.pyplot as plt\n",
        "\n",
        "\n"
      ],
      "metadata": {
        "id": "H5QAZBW_nuty"
      },
      "execution_count": 2,
      "outputs": []
    },
    {
      "cell_type": "code",
      "source": [
        "device = torch.device(\"cuda:0\" if torch.cuda.is_available() else \"cpu\")\n"
      ],
      "metadata": {
        "id": "-ujrwBfUnyyG"
      },
      "execution_count": 3,
      "outputs": []
    },
    {
      "cell_type": "code",
      "source": [
        "import zipfile\n",
        "with zipfile.ZipFile(\"/content/drive/MyDrive/plants/plant-seedlings-classification-.zip\",\"r\") as zip_ref:\n",
        "    zip_ref.extractall(\"/content/plants/\")"
      ],
      "metadata": {
        "id": "GRuh6E_Fny07"
      },
      "execution_count": 4,
      "outputs": []
    },
    {
      "cell_type": "code",
      "source": [
        "import torch\n",
        "import torchvision\n",
        "import torchvision.transforms as transforms\n",
        "import torch.nn as nn\n",
        "import torch.optim as optim\n",
        "import matplotlib.pyplot as plt\n",
        "from sklearn.model_selection import train_test_split\n"
      ],
      "metadata": {
        "id": "IQnjL1dxny3m"
      },
      "execution_count": 5,
      "outputs": []
    },
    {
      "cell_type": "code",
      "source": [
        "%matplotlib inline\n",
        "import matplotlib.pyplot as plt\n",
        "from os.path import join, isdir\n",
        "from os import listdir, makedirs, getcwd, remove\n",
        "from PIL import Image\n",
        "from mpl_toolkits.axes_grid1 import ImageGrid\n",
        "import pandas as pd\n",
        "import numpy as np\n",
        "import torch\n",
        "from torch.autograd import Variable\n",
        "from torch.utils.data import Dataset, DataLoader\n",
        "import torchvision\n",
        "from torchvision import transforms, datasets, models\n",
        "import random\n",
        "from collections import deque\n",
        "\n",
        "use_cuda = torch.cuda.is_available()\n",
        "use_cuda"
      ],
      "metadata": {
        "colab": {
          "base_uri": "https://localhost:8080/"
        },
        "id": "fPy8865Yn35X",
        "outputId": "2ba232f8-554f-4211-a81d-ce1f91c01910"
      },
      "execution_count": 6,
      "outputs": [
        {
          "output_type": "execute_result",
          "data": {
            "text/plain": [
              "True"
            ]
          },
          "metadata": {},
          "execution_count": 6
        }
      ]
    },
    {
      "cell_type": "code",
      "source": [
        "manualSeed = 999\n",
        "def fixSeed(seed):\n",
        "    random.seed(seed)\n",
        "    np.random.seed(seed)\n",
        "    torch.manual_seed(seed)\n",
        "    if use_cuda:\n",
        "        torch.cuda.manual_seed(seed)\n",
        "        torch.cuda.manual_seed_all(seed)\n",
        "fixSeed(manualSeed)"
      ],
      "metadata": {
        "id": "uDlSU_smn38L"
      },
      "execution_count": 7,
      "outputs": []
    },
    {
      "cell_type": "code",
      "source": [
        "import os\n",
        "\n",
        "def find_classes(fullDir):\n",
        "    classes = [d for d in os.listdir(fullDir) if os.path.isdir(os.path.join(fullDir, d))]\n",
        "    classes.sort()\n",
        "    class_to_idx = {classes[i]: i for i in range(len(classes))}\n",
        "    num_to_class = dict(zip(range(len(classes)), classes))\n",
        "    \n",
        "    train = []\n",
        "    for index, label in enumerate(classes):\n",
        "      path = fullDir + label + '/'\n",
        "      for file in listdir(path):\n",
        "        train.append(['{}/{}'.format(label, file), label, index])\n",
        "    \n",
        "    df = pd.DataFrame(train, columns=['file', 'category', 'category_id', ])\n",
        "    \n",
        "    return classes, class_to_idx, num_to_class, df"
      ],
      "metadata": {
        "id": "wvlCt4_1n3_F"
      },
      "execution_count": 8,
      "outputs": []
    },
    {
      "cell_type": "code",
      "source": [
        "classes, class_to_idx, num_to_class, df = find_classes(\"/content/plants/train/\")"
      ],
      "metadata": {
        "id": "dkLb7m05n-mp"
      },
      "execution_count": 9,
      "outputs": []
    },
    {
      "cell_type": "code",
      "source": [
        "X, y = df.drop('category_id', axis=1), df['category_id']\n",
        "\n",
        "print(f'X shape: {X.shape}, y shape: {y.shape}')\n",
        "X.head()"
      ],
      "metadata": {
        "colab": {
          "base_uri": "https://localhost:8080/",
          "height": 224
        },
        "id": "RFeRtzPvoA1c",
        "outputId": "3379e559-e9cd-4faf-8bf8-f4d5f695e3da"
      },
      "execution_count": 10,
      "outputs": [
        {
          "output_type": "stream",
          "name": "stdout",
          "text": [
            "X shape: (4750, 2), y shape: (4750,)\n"
          ]
        },
        {
          "output_type": "execute_result",
          "data": {
            "text/plain": [
              "                        file     category\n",
              "0  Black-grass/5212d8564.png  Black-grass\n",
              "1  Black-grass/a03bc7b24.png  Black-grass\n",
              "2  Black-grass/e47987eab.png  Black-grass\n",
              "3  Black-grass/c9f6ffa0c.png  Black-grass\n",
              "4  Black-grass/aa5bb06a1.png  Black-grass"
            ],
            "text/html": [
              "\n",
              "  <div id=\"df-12b5eaed-d788-47ee-9ea7-ff51bf9ab5fe\">\n",
              "    <div class=\"colab-df-container\">\n",
              "      <div>\n",
              "<style scoped>\n",
              "    .dataframe tbody tr th:only-of-type {\n",
              "        vertical-align: middle;\n",
              "    }\n",
              "\n",
              "    .dataframe tbody tr th {\n",
              "        vertical-align: top;\n",
              "    }\n",
              "\n",
              "    .dataframe thead th {\n",
              "        text-align: right;\n",
              "    }\n",
              "</style>\n",
              "<table border=\"1\" class=\"dataframe\">\n",
              "  <thead>\n",
              "    <tr style=\"text-align: right;\">\n",
              "      <th></th>\n",
              "      <th>file</th>\n",
              "      <th>category</th>\n",
              "    </tr>\n",
              "  </thead>\n",
              "  <tbody>\n",
              "    <tr>\n",
              "      <th>0</th>\n",
              "      <td>Black-grass/5212d8564.png</td>\n",
              "      <td>Black-grass</td>\n",
              "    </tr>\n",
              "    <tr>\n",
              "      <th>1</th>\n",
              "      <td>Black-grass/a03bc7b24.png</td>\n",
              "      <td>Black-grass</td>\n",
              "    </tr>\n",
              "    <tr>\n",
              "      <th>2</th>\n",
              "      <td>Black-grass/e47987eab.png</td>\n",
              "      <td>Black-grass</td>\n",
              "    </tr>\n",
              "    <tr>\n",
              "      <th>3</th>\n",
              "      <td>Black-grass/c9f6ffa0c.png</td>\n",
              "      <td>Black-grass</td>\n",
              "    </tr>\n",
              "    <tr>\n",
              "      <th>4</th>\n",
              "      <td>Black-grass/aa5bb06a1.png</td>\n",
              "      <td>Black-grass</td>\n",
              "    </tr>\n",
              "  </tbody>\n",
              "</table>\n",
              "</div>\n",
              "      <button class=\"colab-df-convert\" onclick=\"convertToInteractive('df-12b5eaed-d788-47ee-9ea7-ff51bf9ab5fe')\"\n",
              "              title=\"Convert this dataframe to an interactive table.\"\n",
              "              style=\"display:none;\">\n",
              "        \n",
              "  <svg xmlns=\"http://www.w3.org/2000/svg\" height=\"24px\"viewBox=\"0 0 24 24\"\n",
              "       width=\"24px\">\n",
              "    <path d=\"M0 0h24v24H0V0z\" fill=\"none\"/>\n",
              "    <path d=\"M18.56 5.44l.94 2.06.94-2.06 2.06-.94-2.06-.94-.94-2.06-.94 2.06-2.06.94zm-11 1L8.5 8.5l.94-2.06 2.06-.94-2.06-.94L8.5 2.5l-.94 2.06-2.06.94zm10 10l.94 2.06.94-2.06 2.06-.94-2.06-.94-.94-2.06-.94 2.06-2.06.94z\"/><path d=\"M17.41 7.96l-1.37-1.37c-.4-.4-.92-.59-1.43-.59-.52 0-1.04.2-1.43.59L10.3 9.45l-7.72 7.72c-.78.78-.78 2.05 0 2.83L4 21.41c.39.39.9.59 1.41.59.51 0 1.02-.2 1.41-.59l7.78-7.78 2.81-2.81c.8-.78.8-2.07 0-2.86zM5.41 20L4 18.59l7.72-7.72 1.47 1.35L5.41 20z\"/>\n",
              "  </svg>\n",
              "      </button>\n",
              "      \n",
              "  <style>\n",
              "    .colab-df-container {\n",
              "      display:flex;\n",
              "      flex-wrap:wrap;\n",
              "      gap: 12px;\n",
              "    }\n",
              "\n",
              "    .colab-df-convert {\n",
              "      background-color: #E8F0FE;\n",
              "      border: none;\n",
              "      border-radius: 50%;\n",
              "      cursor: pointer;\n",
              "      display: none;\n",
              "      fill: #1967D2;\n",
              "      height: 32px;\n",
              "      padding: 0 0 0 0;\n",
              "      width: 32px;\n",
              "    }\n",
              "\n",
              "    .colab-df-convert:hover {\n",
              "      background-color: #E2EBFA;\n",
              "      box-shadow: 0px 1px 2px rgba(60, 64, 67, 0.3), 0px 1px 3px 1px rgba(60, 64, 67, 0.15);\n",
              "      fill: #174EA6;\n",
              "    }\n",
              "\n",
              "    [theme=dark] .colab-df-convert {\n",
              "      background-color: #3B4455;\n",
              "      fill: #D2E3FC;\n",
              "    }\n",
              "\n",
              "    [theme=dark] .colab-df-convert:hover {\n",
              "      background-color: #434B5C;\n",
              "      box-shadow: 0px 1px 3px 1px rgba(0, 0, 0, 0.15);\n",
              "      filter: drop-shadow(0px 1px 2px rgba(0, 0, 0, 0.3));\n",
              "      fill: #FFFFFF;\n",
              "    }\n",
              "  </style>\n",
              "\n",
              "      <script>\n",
              "        const buttonEl =\n",
              "          document.querySelector('#df-12b5eaed-d788-47ee-9ea7-ff51bf9ab5fe button.colab-df-convert');\n",
              "        buttonEl.style.display =\n",
              "          google.colab.kernel.accessAllowed ? 'block' : 'none';\n",
              "\n",
              "        async function convertToInteractive(key) {\n",
              "          const element = document.querySelector('#df-12b5eaed-d788-47ee-9ea7-ff51bf9ab5fe');\n",
              "          const dataTable =\n",
              "            await google.colab.kernel.invokeFunction('convertToInteractive',\n",
              "                                                     [key], {});\n",
              "          if (!dataTable) return;\n",
              "\n",
              "          const docLinkHtml = 'Like what you see? Visit the ' +\n",
              "            '<a target=\"_blank\" href=https://colab.research.google.com/notebooks/data_table.ipynb>data table notebook</a>'\n",
              "            + ' to learn more about interactive tables.';\n",
              "          element.innerHTML = '';\n",
              "          dataTable['output_type'] = 'display_data';\n",
              "          await google.colab.output.renderOutput(dataTable, element);\n",
              "          const docLink = document.createElement('div');\n",
              "          docLink.innerHTML = docLinkHtml;\n",
              "          element.appendChild(docLink);\n",
              "        }\n",
              "      </script>\n",
              "    </div>\n",
              "  </div>\n",
              "  "
            ]
          },
          "metadata": {},
          "execution_count": 10
        }
      ]
    },
    {
      "cell_type": "code",
      "source": [
        "class SeedlingDataset(Dataset):\n",
        "    def __init__(self, filenames, labels, root_dir, subset=False, transform=None):\n",
        "        self.filenames = filenames\n",
        "        self.labels = labels\n",
        "        self.root_dir = root_dir\n",
        "        self.transform = transform\n",
        "    \n",
        "    def __len__(self):\n",
        "        return len(self.labels)\n",
        "    \n",
        "    def __getitem__(self, idx):\n",
        "        fullname = join(self.root_dir, self.filenames.iloc[idx])\n",
        "        image = Image.open(fullname).convert('RGB')\n",
        "        if self.transform:\n",
        "            image = self.transform(image)\n",
        "        return image, self.labels.iloc[idx]"
      ],
      "metadata": {
        "id": "cPiPfvM3oA4M"
      },
      "execution_count": 11,
      "outputs": []
    },
    {
      "cell_type": "code",
      "source": [
        "X, y = df.drop(['category_id', 'category'], axis=1), df['category_id']\n"
      ],
      "metadata": {
        "id": "NKDTzd8jn-po"
      },
      "execution_count": 12,
      "outputs": []
    },
    {
      "cell_type": "code",
      "source": [
        "X_train, X_test, y_train, y_test = train_test_split(X, y, test_size=0.2, random_state=1)\n",
        "\n",
        "X_train, X_val, y_train, y_val = train_test_split(X_train, y_train, test_size=0.2, random_state=1)"
      ],
      "metadata": {
        "id": "1juDLKjln-sH"
      },
      "execution_count": 13,
      "outputs": []
    },
    {
      "cell_type": "code",
      "source": [
        "print(f'train size: {X_train.shape}, validation size: {X_val.shape}, test size: {X_test.shape}')"
      ],
      "metadata": {
        "colab": {
          "base_uri": "https://localhost:8080/"
        },
        "id": "1XPf4xLpn4BZ",
        "outputId": "9da56ce3-963d-450a-e35d-35241cfe4eb5"
      },
      "execution_count": 14,
      "outputs": [
        {
          "output_type": "stream",
          "name": "stdout",
          "text": [
            "train size: (3040, 1), validation size: (760, 1), test size: (950, 1)\n"
          ]
        }
      ]
    },
    {
      "cell_type": "code",
      "source": [
        "def train(train_loader, model, optimizer, criterion):\n",
        "    model.train()\n",
        "    \n",
        "    losses, accuracies = [], []\n",
        "    for batch_idx, (data, target) in (enumerate(train_loader)):\n",
        "        correct = 0\n",
        "        \n",
        "        if use_cuda:\n",
        "            data, target = data.cuda(), target.cuda()\n",
        "        \n",
        "        optimizer.zero_grad()\n",
        "        output = model(data) # forward\n",
        "        loss = criterion(output, target)\n",
        "        loss.backward()\n",
        "        # Calculate Accuracy\n",
        "        pred = output.data.max(1)[1] # max probability\n",
        "        correct += pred.eq(target.data).cpu().sum() \n",
        "        accuracy = 100. * correct / len(data)\n",
        "        optimizer.step()\n",
        "        \n",
        "        losses.append(loss.data.item())\n",
        "        accuracies.append(accuracy)\n",
        "        \n",
        "    return np.mean(losses), np.mean(accuracies)\n",
        "\n",
        "\n",
        "def test(test_loader, criterion, model):\n",
        "    test_loss = 0\n",
        "    correct = 0\n",
        "    for data, target in test_loader:\n",
        "        if use_cuda:\n",
        "            data, target = data.cuda(), target.cuda()\n",
        "        \n",
        "        data, target = Variable(data, volatile=True), Variable(target)\n",
        "        output = model(data)\n",
        "        test_loss += criterion(output, target).data.item()\n",
        "        pred = output.data.max(1)[1] # get the index of the max log-probability\n",
        "        correct += pred.eq(target.data).cpu().sum().item()\n",
        "    \n",
        "    test_loss /= len(test_loader) # loss function already averages over batch size\n",
        "    accuracy = 100. * correct / len(test_loader.dataset)\n",
        "    return test_loss, accuracy\n",
        "\n",
        "def _should_early_stop(recent_validation_losses, validation_loss, early_stopping_rounds):\n",
        "    recent_validation_losses.append(validation_loss)\n",
        "    if early_stopping_rounds < len(recent_validation_losses):\n",
        "        recent_validation_losses.popleft()\n",
        "        return all(np.diff(recent_validation_losses) > 0)\n",
        "    return False\n",
        "    \n",
        "def run_train_process(epochs, loaders, model, optimizer, criterion, early_stopping_rounds=10):\n",
        "    epoch_to_results = {}\n",
        "    recent_validation_losses = deque()\n",
        "    \n",
        "    for epoch in tqdm(range(epochs)):\n",
        "        train_loss, train_accuracy = train(loaders['train'], model, optimizer, criterion)\n",
        "        validation_loss, validation_accuracy = test(loaders['validation'], criterion, model)\n",
        "        epoch_to_results[epoch] = {\n",
        "            'train_loss': train_loss,\n",
        "            'train_accuracy': train_accuracy,\n",
        "            'validation_loss': validation_loss,\n",
        "            'validation_accuracy': validation_accuracy,\n",
        "        }\n",
        "\n",
        "        # Debug\n",
        "        if epoch % 5 == 0:\n",
        "            print('[%s] Train Accuracy: %.5f , Validation Accuracy: %.5f' % (epoch, train_accuracy, validation_accuracy))\n",
        "        \n",
        "        # Early Stop\n",
        "        should_early_stop = _should_early_stop(recent_validation_losses, validation_loss, early_stopping_rounds)\n",
        "        if should_early_stop:\n",
        "            print(f'Train epoch {epoch} EARLY STOPPING - validation loss has not improved in the last {early_stopping_rounds} rounds')\n",
        "            break\n",
        "    \n",
        "    df_epoch_to_results = pd.DataFrame.from_dict(epoch_to_results).T\n",
        "    _, test_accuracy = test(loaders['test'], criterion, model)\n",
        "    \n",
        "    return df_epoch_to_results, test_accuracy"
      ],
      "metadata": {
        "id": "95UC62AroLSt"
      },
      "execution_count": 15,
      "outputs": []
    },
    {
      "cell_type": "code",
      "source": [
        "import torch.nn as nn\n",
        "import torch.optim as optim\n",
        "import torch.nn.functional as F\n",
        "from tqdm import tqdm, tqdm_notebook"
      ],
      "metadata": {
        "id": "V6Whpc2EoLVe"
      },
      "execution_count": 16,
      "outputs": []
    },
    {
      "cell_type": "code",
      "source": [
        "class LeNet(nn.Module):\n",
        "    def __init__(self, num_classes=12, num_rgb=3):\n",
        "        super(LeNet, self).__init__()\n",
        "        self.conv1 = nn.Conv2d(num_rgb, 6, 5)\n",
        "        self.conv2 = nn.Conv2d(6, 16, 5)\n",
        "        self.fc1 = nn.Linear(44944, 120)\n",
        "        self.fc2 = nn.Linear(120, 84)\n",
        "        self.fc3 = nn.Linear(84, num_classes)\n",
        "\n",
        "    def forward(self, x):\n",
        "        out = F.relu(self.conv1(x))\n",
        "        out = F.max_pool2d(out, 2)\n",
        "        out = F.relu(self.conv2(out))\n",
        "        out = F.max_pool2d(out, 2)\n",
        "        out = out.view(out.size(0), -1)\n",
        "        out = F.relu(self.fc1(out))\n",
        "        out = F.relu(self.fc2(out))\n",
        "        out = out.view(out.size(0), -1)\n",
        "        out = self.fc3(out)\n",
        "        return out"
      ],
      "metadata": {
        "id": "KdVD41-soSFD"
      },
      "execution_count": 17,
      "outputs": []
    },
    {
      "cell_type": "code",
      "source": [
        "image_size = (299, 299)\n",
        "train_set = SeedlingDataset(\n",
        "    X_train.file, y_train, '/content/plants/train/',\n",
        "    transform=transforms.Compose([\n",
        "        transforms.Resize(size=image_size),\n",
        "        transforms.ToTensor()]))\n",
        "\n",
        "means = []\n",
        "means_sq = []\n",
        "\n",
        "for img, _ in tqdm_notebook(train_set):\n",
        "    means.append(np.asarray(img, dtype='float32').mean(axis=(1,2)))\n",
        "    means_sq.append((np.asarray(img, dtype='float32') ** 2).mean(axis=(1,2)))\n",
        "\n",
        "mean_img = np.mean(means, axis=0)\n",
        "std_img = np.sqrt(np.mean(means_sq, axis=0) - (mean_img ** 2))"
      ],
      "metadata": {
        "colab": {
          "base_uri": "https://localhost:8080/",
          "height": 102,
          "referenced_widgets": [
            "4f40991abfdc46b7a40e2367e4ad00d0",
            "adfa7ab619db4dff8c83509d6fb41950",
            "8bd15185dd1848d492698b9aaf6d5111",
            "4266f3e0c7ed495c9845e9deea55daa2",
            "7bbf0d9494a64c62a07d12850c1f40bc",
            "f368ac763dea41d9ba4556f36c29a8f1",
            "840bf818929541cead85807888102dbf",
            "da33e51c6edb42439377fde8085d2c1f",
            "dfb29be5a58a403b8e22ab47ff531622",
            "4d326ddc90fb4974a0eb0ab889950066",
            "21d69ae90e3d41a79365384d3fc0dfdb"
          ]
        },
        "id": "PNjxXqO0oSIF",
        "outputId": "da6fd039-3866-411a-de57-80e2d7f3f22c"
      },
      "execution_count": 18,
      "outputs": [
        {
          "output_type": "stream",
          "name": "stderr",
          "text": [
            "<ipython-input-18-c9baf043be33>:11: TqdmDeprecationWarning: This function will be removed in tqdm==5.0.0\n",
            "Please use `tqdm.notebook.tqdm` instead of `tqdm.tqdm_notebook`\n",
            "  for img, _ in tqdm_notebook(train_set):\n"
          ]
        },
        {
          "output_type": "display_data",
          "data": {
            "text/plain": [
              "  0%|          | 0/3040 [00:00<?, ?it/s]"
            ],
            "application/vnd.jupyter.widget-view+json": {
              "version_major": 2,
              "version_minor": 0,
              "model_id": "4f40991abfdc46b7a40e2367e4ad00d0"
            }
          },
          "metadata": {}
        }
      ]
    },
    {
      "cell_type": "markdown",
      "source": [
        "# **Inception_V3 Transfer Learning + 30 Epochs + SGD + Transform + Image Normalization + Data Augmentation + Batch Size 32**"
      ],
      "metadata": {
        "id": "ydlvXirl_36p"
      }
    },
    {
      "cell_type": "code",
      "source": [
        "def set_parameter_requires_grad(model, feature_extracting):\n",
        "    if feature_extracting:\n",
        "        for param in model.parameters():\n",
        "            param.requires_grad = False"
      ],
      "metadata": {
        "id": "5VDUSUuWrhDX"
      },
      "execution_count": 19,
      "outputs": []
    },
    {
      "cell_type": "code",
      "source": [
        "# Load the pretrained model from pytorch\n",
        "\n",
        "\n",
        "inceptionv3 = models.inception_v3(pretrained=True)\n",
        "\n",
        "# Freeze training for all layers\n",
        "for param in inceptionv3.parameters():\n",
        "    param.require_grad = False\n",
        "    \n",
        "inceptionv3.aux_logits=False\n",
        "\n",
        "num_ftrs = inceptionv3.AuxLogits.fc.in_features\n",
        "inceptionv3.AuxLogits.fc = nn.Linear(num_ftrs, 12)\n",
        "        # Handle the primary net\n",
        "num_ftrs = inceptionv3.fc.in_features\n",
        "print(f'Number of output fearurs of pretrained Inception is: {inceptionv3.fc.out_features}') # 1000\n",
        "\n",
        "\n",
        "inceptionv3.fc = nn.Sequential(\n",
        "    nn.Linear(num_ftrs, 256),\n",
        "    nn.ReLU(),\n",
        "    nn.Dropout(0.4),\n",
        "    nn.Linear(256, 12), \n",
        "    nn.LogSoftmax(dim=1) # For using NLLLoss()\n",
        ")"
      ],
      "metadata": {
        "colab": {
          "base_uri": "https://localhost:8080/"
        },
        "id": "ZGc5q15FoSK2",
        "outputId": "e8318d76-4327-441b-c180-9ba939667c38"
      },
      "execution_count": 24,
      "outputs": [
        {
          "output_type": "stream",
          "name": "stdout",
          "text": [
            "Number of output fearurs of pretrained Inception is: 1000\n"
          ]
        }
      ]
    },
    {
      "cell_type": "code",
      "source": [
        "image_size = (299, 299)\n",
        "batch_size = 32\n",
        "\n",
        "train_trans = transforms.Compose([\n",
        "    transforms.transforms.RandomHorizontalFlip(),\n",
        "    transforms.transforms.RandomRotation(180),\n",
        "    transforms.transforms.RandomVerticalFlip(),\n",
        "    transforms.Resize(size=image_size),\n",
        "    transforms.ToTensor(),\n",
        "    transforms.Normalize(mean_img, std_img),\n",
        "])\n",
        "validation_trans = transforms.Compose([\n",
        "    transforms.Resize(size=image_size),\n",
        "    transforms.ToTensor(),\n",
        "    transforms.Normalize(mean_img, std_img)\n",
        "])\n",
        "\n",
        "train_set = SeedlingDataset(X_train.file, y_train, '/content/plants/train/', transform=train_trans)\n",
        "valid_set = SeedlingDataset(X_val.file, y_val, '/content/plants/train/', transform=validation_trans)\n",
        "test_set = SeedlingDataset(X_test.file, y_test, '/content/plants/train/', transform=validation_trans)\n",
        "\n",
        "train_loader = DataLoader(train_set, batch_size=batch_size, shuffle=True, num_workers=0)\n",
        "validation_loader = DataLoader(valid_set, batch_size=batch_size, shuffle=True, num_workers=0)\n",
        "\n",
        "learning_rate = 1e-3\n",
        "inception_model = inceptionv3.cuda()\n",
        "criterion = nn.CrossEntropyLoss()\n",
        "optimizer = optim.SGD(inception_model.parameters(), lr=0.001, momentum=0.9)\n",
        "\n",
        "train_set = SeedlingDataset(X_train.file, y_train, '/content/plants/train/', transform=train_trans)\n",
        "valid_set = SeedlingDataset(X_val.file, y_val, '/content/plants/train/', transform=validation_trans)\n",
        "test_set = SeedlingDataset(X_test.file, y_test, '/content/plants/train/', transform=validation_trans)\n",
        "\n",
        "loaders = {\n",
        "    'train': DataLoader(train_set, batch_size=batch_size, shuffle=True, num_workers=0),\n",
        "    'validation': DataLoader(valid_set, batch_size=batch_size, shuffle=True, num_workers=0),\n",
        "    'test': DataLoader(test_set, batch_size=batch_size, shuffle=True, num_workers=0)\n",
        "}\n",
        "epochs = 30\n",
        "\n",
        "df_experiment9_result, test_accuracy_experiment9 = run_train_process(epochs, loaders, inception_model, optimizer, criterion)\n",
        "df_experiment9_result"
      ],
      "metadata": {
        "colab": {
          "base_uri": "https://localhost:8080/",
          "height": 1000
        },
        "id": "uA2sl7H_oLYY",
        "outputId": "9b2d24a9-82a2-41ff-b7fa-6cc4e106285e"
      },
      "execution_count": 25,
      "outputs": [
        {
          "output_type": "stream",
          "name": "stderr",
          "text": [
            "\r  0%|          | 0/30 [00:00<?, ?it/s]<ipython-input-15-bd074e5d3251>:34: UserWarning: volatile was removed and now has no effect. Use `with torch.no_grad():` instead.\n",
            "  data, target = Variable(data, volatile=True), Variable(target)\n",
            "  3%|▎         | 1/30 [01:42<49:33, 102.53s/it]"
          ]
        },
        {
          "output_type": "stream",
          "name": "stdout",
          "text": [
            "[0] Train Accuracy: 16.84211 , Validation Accuracy: 24.60526\n"
          ]
        },
        {
          "output_type": "stream",
          "name": "stderr",
          "text": [
            " 20%|██        | 6/30 [10:15<41:00, 102.54s/it]"
          ]
        },
        {
          "output_type": "stream",
          "name": "stdout",
          "text": [
            "[5] Train Accuracy: 88.48684 , Validation Accuracy: 87.50000\n"
          ]
        },
        {
          "output_type": "stream",
          "name": "stderr",
          "text": [
            " 37%|███▋      | 11/30 [18:49<32:30, 102.68s/it]"
          ]
        },
        {
          "output_type": "stream",
          "name": "stdout",
          "text": [
            "[10] Train Accuracy: 94.67105 , Validation Accuracy: 92.89474\n"
          ]
        },
        {
          "output_type": "stream",
          "name": "stderr",
          "text": [
            " 53%|█████▎    | 16/30 [27:23<24:01, 102.94s/it]"
          ]
        },
        {
          "output_type": "stream",
          "name": "stdout",
          "text": [
            "[15] Train Accuracy: 96.71053 , Validation Accuracy: 94.34211\n"
          ]
        },
        {
          "output_type": "stream",
          "name": "stderr",
          "text": [
            " 70%|███████   | 21/30 [35:54<15:20, 102.33s/it]"
          ]
        },
        {
          "output_type": "stream",
          "name": "stdout",
          "text": [
            "[20] Train Accuracy: 97.50000 , Validation Accuracy: 95.00000\n"
          ]
        },
        {
          "output_type": "stream",
          "name": "stderr",
          "text": [
            " 87%|████████▋ | 26/30 [44:26<06:49, 102.41s/it]"
          ]
        },
        {
          "output_type": "stream",
          "name": "stdout",
          "text": [
            "[25] Train Accuracy: 98.12500 , Validation Accuracy: 92.76316\n"
          ]
        },
        {
          "output_type": "stream",
          "name": "stderr",
          "text": [
            "100%|██████████| 30/30 [51:14<00:00, 102.49s/it]\n"
          ]
        },
        {
          "output_type": "execute_result",
          "data": {
            "text/plain": [
              "    train_loss  train_accuracy  validation_loss  validation_accuracy\n",
              "0     2.399389       16.842106         2.273158            24.605263\n",
              "1     2.077328       35.526318         1.759663            48.684211\n",
              "2     1.389170       59.276318         1.031365            69.078947\n",
              "3     0.807654       75.263161         0.628149            83.289474\n",
              "4     0.533060       84.210526         0.505252            85.131579\n",
              "5     0.382612       88.486839         0.394495            87.500000\n",
              "6     0.320958       90.197365         0.324531            90.526316\n",
              "7     0.251679       92.565788         0.258158            92.631579\n",
              "8     0.221241       93.026314         0.262121            91.578947\n",
              "9     0.191691       94.013161         0.279769            90.263158\n",
              "10    0.171497       94.671051         0.203277            92.894737\n",
              "11    0.156362       94.901314         0.218053            93.552632\n",
              "12    0.152731       94.901314         0.217730            92.500000\n",
              "13    0.137071       95.657898         0.227801            93.157895\n",
              "14    0.137904       95.657898         0.213984            93.815789\n",
              "15    0.110227       96.710526         0.171859            94.342105\n",
              "16    0.102873       96.809212         0.171608            94.868421\n",
              "17    0.101850       96.940788         0.202773            93.421053\n",
              "18    0.101264       96.842102         0.194253            94.473684\n",
              "19    0.088398       97.500000         0.175323            94.605263\n",
              "20    0.077222       97.500000         0.170061            95.000000\n",
              "21    0.086813       97.269737         0.169862            93.815789\n",
              "22    0.067275       97.927635         0.204086            93.421053\n",
              "23    0.068243       97.960526         0.181394            95.526316\n",
              "24    0.058490       98.355263         0.180957            95.263158\n",
              "25    0.059106       98.125000         0.216377            92.763158\n",
              "26    0.054960       98.519737         0.157522            95.263158\n",
              "27    0.056958       98.190788         0.167075            95.131579\n",
              "28    0.052497       98.486839         0.173320            95.000000\n",
              "29    0.051105       98.355263         0.200861            93.947368"
            ],
            "text/html": [
              "\n",
              "  <div id=\"df-05850c09-ec14-464e-b1cc-fb09d6cc43e3\">\n",
              "    <div class=\"colab-df-container\">\n",
              "      <div>\n",
              "<style scoped>\n",
              "    .dataframe tbody tr th:only-of-type {\n",
              "        vertical-align: middle;\n",
              "    }\n",
              "\n",
              "    .dataframe tbody tr th {\n",
              "        vertical-align: top;\n",
              "    }\n",
              "\n",
              "    .dataframe thead th {\n",
              "        text-align: right;\n",
              "    }\n",
              "</style>\n",
              "<table border=\"1\" class=\"dataframe\">\n",
              "  <thead>\n",
              "    <tr style=\"text-align: right;\">\n",
              "      <th></th>\n",
              "      <th>train_loss</th>\n",
              "      <th>train_accuracy</th>\n",
              "      <th>validation_loss</th>\n",
              "      <th>validation_accuracy</th>\n",
              "    </tr>\n",
              "  </thead>\n",
              "  <tbody>\n",
              "    <tr>\n",
              "      <th>0</th>\n",
              "      <td>2.399389</td>\n",
              "      <td>16.842106</td>\n",
              "      <td>2.273158</td>\n",
              "      <td>24.605263</td>\n",
              "    </tr>\n",
              "    <tr>\n",
              "      <th>1</th>\n",
              "      <td>2.077328</td>\n",
              "      <td>35.526318</td>\n",
              "      <td>1.759663</td>\n",
              "      <td>48.684211</td>\n",
              "    </tr>\n",
              "    <tr>\n",
              "      <th>2</th>\n",
              "      <td>1.389170</td>\n",
              "      <td>59.276318</td>\n",
              "      <td>1.031365</td>\n",
              "      <td>69.078947</td>\n",
              "    </tr>\n",
              "    <tr>\n",
              "      <th>3</th>\n",
              "      <td>0.807654</td>\n",
              "      <td>75.263161</td>\n",
              "      <td>0.628149</td>\n",
              "      <td>83.289474</td>\n",
              "    </tr>\n",
              "    <tr>\n",
              "      <th>4</th>\n",
              "      <td>0.533060</td>\n",
              "      <td>84.210526</td>\n",
              "      <td>0.505252</td>\n",
              "      <td>85.131579</td>\n",
              "    </tr>\n",
              "    <tr>\n",
              "      <th>5</th>\n",
              "      <td>0.382612</td>\n",
              "      <td>88.486839</td>\n",
              "      <td>0.394495</td>\n",
              "      <td>87.500000</td>\n",
              "    </tr>\n",
              "    <tr>\n",
              "      <th>6</th>\n",
              "      <td>0.320958</td>\n",
              "      <td>90.197365</td>\n",
              "      <td>0.324531</td>\n",
              "      <td>90.526316</td>\n",
              "    </tr>\n",
              "    <tr>\n",
              "      <th>7</th>\n",
              "      <td>0.251679</td>\n",
              "      <td>92.565788</td>\n",
              "      <td>0.258158</td>\n",
              "      <td>92.631579</td>\n",
              "    </tr>\n",
              "    <tr>\n",
              "      <th>8</th>\n",
              "      <td>0.221241</td>\n",
              "      <td>93.026314</td>\n",
              "      <td>0.262121</td>\n",
              "      <td>91.578947</td>\n",
              "    </tr>\n",
              "    <tr>\n",
              "      <th>9</th>\n",
              "      <td>0.191691</td>\n",
              "      <td>94.013161</td>\n",
              "      <td>0.279769</td>\n",
              "      <td>90.263158</td>\n",
              "    </tr>\n",
              "    <tr>\n",
              "      <th>10</th>\n",
              "      <td>0.171497</td>\n",
              "      <td>94.671051</td>\n",
              "      <td>0.203277</td>\n",
              "      <td>92.894737</td>\n",
              "    </tr>\n",
              "    <tr>\n",
              "      <th>11</th>\n",
              "      <td>0.156362</td>\n",
              "      <td>94.901314</td>\n",
              "      <td>0.218053</td>\n",
              "      <td>93.552632</td>\n",
              "    </tr>\n",
              "    <tr>\n",
              "      <th>12</th>\n",
              "      <td>0.152731</td>\n",
              "      <td>94.901314</td>\n",
              "      <td>0.217730</td>\n",
              "      <td>92.500000</td>\n",
              "    </tr>\n",
              "    <tr>\n",
              "      <th>13</th>\n",
              "      <td>0.137071</td>\n",
              "      <td>95.657898</td>\n",
              "      <td>0.227801</td>\n",
              "      <td>93.157895</td>\n",
              "    </tr>\n",
              "    <tr>\n",
              "      <th>14</th>\n",
              "      <td>0.137904</td>\n",
              "      <td>95.657898</td>\n",
              "      <td>0.213984</td>\n",
              "      <td>93.815789</td>\n",
              "    </tr>\n",
              "    <tr>\n",
              "      <th>15</th>\n",
              "      <td>0.110227</td>\n",
              "      <td>96.710526</td>\n",
              "      <td>0.171859</td>\n",
              "      <td>94.342105</td>\n",
              "    </tr>\n",
              "    <tr>\n",
              "      <th>16</th>\n",
              "      <td>0.102873</td>\n",
              "      <td>96.809212</td>\n",
              "      <td>0.171608</td>\n",
              "      <td>94.868421</td>\n",
              "    </tr>\n",
              "    <tr>\n",
              "      <th>17</th>\n",
              "      <td>0.101850</td>\n",
              "      <td>96.940788</td>\n",
              "      <td>0.202773</td>\n",
              "      <td>93.421053</td>\n",
              "    </tr>\n",
              "    <tr>\n",
              "      <th>18</th>\n",
              "      <td>0.101264</td>\n",
              "      <td>96.842102</td>\n",
              "      <td>0.194253</td>\n",
              "      <td>94.473684</td>\n",
              "    </tr>\n",
              "    <tr>\n",
              "      <th>19</th>\n",
              "      <td>0.088398</td>\n",
              "      <td>97.500000</td>\n",
              "      <td>0.175323</td>\n",
              "      <td>94.605263</td>\n",
              "    </tr>\n",
              "    <tr>\n",
              "      <th>20</th>\n",
              "      <td>0.077222</td>\n",
              "      <td>97.500000</td>\n",
              "      <td>0.170061</td>\n",
              "      <td>95.000000</td>\n",
              "    </tr>\n",
              "    <tr>\n",
              "      <th>21</th>\n",
              "      <td>0.086813</td>\n",
              "      <td>97.269737</td>\n",
              "      <td>0.169862</td>\n",
              "      <td>93.815789</td>\n",
              "    </tr>\n",
              "    <tr>\n",
              "      <th>22</th>\n",
              "      <td>0.067275</td>\n",
              "      <td>97.927635</td>\n",
              "      <td>0.204086</td>\n",
              "      <td>93.421053</td>\n",
              "    </tr>\n",
              "    <tr>\n",
              "      <th>23</th>\n",
              "      <td>0.068243</td>\n",
              "      <td>97.960526</td>\n",
              "      <td>0.181394</td>\n",
              "      <td>95.526316</td>\n",
              "    </tr>\n",
              "    <tr>\n",
              "      <th>24</th>\n",
              "      <td>0.058490</td>\n",
              "      <td>98.355263</td>\n",
              "      <td>0.180957</td>\n",
              "      <td>95.263158</td>\n",
              "    </tr>\n",
              "    <tr>\n",
              "      <th>25</th>\n",
              "      <td>0.059106</td>\n",
              "      <td>98.125000</td>\n",
              "      <td>0.216377</td>\n",
              "      <td>92.763158</td>\n",
              "    </tr>\n",
              "    <tr>\n",
              "      <th>26</th>\n",
              "      <td>0.054960</td>\n",
              "      <td>98.519737</td>\n",
              "      <td>0.157522</td>\n",
              "      <td>95.263158</td>\n",
              "    </tr>\n",
              "    <tr>\n",
              "      <th>27</th>\n",
              "      <td>0.056958</td>\n",
              "      <td>98.190788</td>\n",
              "      <td>0.167075</td>\n",
              "      <td>95.131579</td>\n",
              "    </tr>\n",
              "    <tr>\n",
              "      <th>28</th>\n",
              "      <td>0.052497</td>\n",
              "      <td>98.486839</td>\n",
              "      <td>0.173320</td>\n",
              "      <td>95.000000</td>\n",
              "    </tr>\n",
              "    <tr>\n",
              "      <th>29</th>\n",
              "      <td>0.051105</td>\n",
              "      <td>98.355263</td>\n",
              "      <td>0.200861</td>\n",
              "      <td>93.947368</td>\n",
              "    </tr>\n",
              "  </tbody>\n",
              "</table>\n",
              "</div>\n",
              "      <button class=\"colab-df-convert\" onclick=\"convertToInteractive('df-05850c09-ec14-464e-b1cc-fb09d6cc43e3')\"\n",
              "              title=\"Convert this dataframe to an interactive table.\"\n",
              "              style=\"display:none;\">\n",
              "        \n",
              "  <svg xmlns=\"http://www.w3.org/2000/svg\" height=\"24px\"viewBox=\"0 0 24 24\"\n",
              "       width=\"24px\">\n",
              "    <path d=\"M0 0h24v24H0V0z\" fill=\"none\"/>\n",
              "    <path d=\"M18.56 5.44l.94 2.06.94-2.06 2.06-.94-2.06-.94-.94-2.06-.94 2.06-2.06.94zm-11 1L8.5 8.5l.94-2.06 2.06-.94-2.06-.94L8.5 2.5l-.94 2.06-2.06.94zm10 10l.94 2.06.94-2.06 2.06-.94-2.06-.94-.94-2.06-.94 2.06-2.06.94z\"/><path d=\"M17.41 7.96l-1.37-1.37c-.4-.4-.92-.59-1.43-.59-.52 0-1.04.2-1.43.59L10.3 9.45l-7.72 7.72c-.78.78-.78 2.05 0 2.83L4 21.41c.39.39.9.59 1.41.59.51 0 1.02-.2 1.41-.59l7.78-7.78 2.81-2.81c.8-.78.8-2.07 0-2.86zM5.41 20L4 18.59l7.72-7.72 1.47 1.35L5.41 20z\"/>\n",
              "  </svg>\n",
              "      </button>\n",
              "      \n",
              "  <style>\n",
              "    .colab-df-container {\n",
              "      display:flex;\n",
              "      flex-wrap:wrap;\n",
              "      gap: 12px;\n",
              "    }\n",
              "\n",
              "    .colab-df-convert {\n",
              "      background-color: #E8F0FE;\n",
              "      border: none;\n",
              "      border-radius: 50%;\n",
              "      cursor: pointer;\n",
              "      display: none;\n",
              "      fill: #1967D2;\n",
              "      height: 32px;\n",
              "      padding: 0 0 0 0;\n",
              "      width: 32px;\n",
              "    }\n",
              "\n",
              "    .colab-df-convert:hover {\n",
              "      background-color: #E2EBFA;\n",
              "      box-shadow: 0px 1px 2px rgba(60, 64, 67, 0.3), 0px 1px 3px 1px rgba(60, 64, 67, 0.15);\n",
              "      fill: #174EA6;\n",
              "    }\n",
              "\n",
              "    [theme=dark] .colab-df-convert {\n",
              "      background-color: #3B4455;\n",
              "      fill: #D2E3FC;\n",
              "    }\n",
              "\n",
              "    [theme=dark] .colab-df-convert:hover {\n",
              "      background-color: #434B5C;\n",
              "      box-shadow: 0px 1px 3px 1px rgba(0, 0, 0, 0.15);\n",
              "      filter: drop-shadow(0px 1px 2px rgba(0, 0, 0, 0.3));\n",
              "      fill: #FFFFFF;\n",
              "    }\n",
              "  </style>\n",
              "\n",
              "      <script>\n",
              "        const buttonEl =\n",
              "          document.querySelector('#df-05850c09-ec14-464e-b1cc-fb09d6cc43e3 button.colab-df-convert');\n",
              "        buttonEl.style.display =\n",
              "          google.colab.kernel.accessAllowed ? 'block' : 'none';\n",
              "\n",
              "        async function convertToInteractive(key) {\n",
              "          const element = document.querySelector('#df-05850c09-ec14-464e-b1cc-fb09d6cc43e3');\n",
              "          const dataTable =\n",
              "            await google.colab.kernel.invokeFunction('convertToInteractive',\n",
              "                                                     [key], {});\n",
              "          if (!dataTable) return;\n",
              "\n",
              "          const docLinkHtml = 'Like what you see? Visit the ' +\n",
              "            '<a target=\"_blank\" href=https://colab.research.google.com/notebooks/data_table.ipynb>data table notebook</a>'\n",
              "            + ' to learn more about interactive tables.';\n",
              "          element.innerHTML = '';\n",
              "          dataTable['output_type'] = 'display_data';\n",
              "          await google.colab.output.renderOutput(dataTable, element);\n",
              "          const docLink = document.createElement('div');\n",
              "          docLink.innerHTML = docLinkHtml;\n",
              "          element.appendChild(docLink);\n",
              "        }\n",
              "      </script>\n",
              "    </div>\n",
              "  </div>\n",
              "  "
            ]
          },
          "metadata": {},
          "execution_count": 25
        }
      ]
    },
    {
      "cell_type": "code",
      "source": [
        "ax = df_experiment9_result[['train_accuracy', 'validation_accuracy']].plot(figsize=(16,9),)\n",
        "df_experiment9_result[['train_loss', 'validation_loss']].plot(ax=ax.twinx())\n",
        "ax.set_title(f'[Transfer Learning with Inception Model + 30 Epochs + SGD + Transform + Image Normalization + Data Augmentation + Batch Size 32] Test Accuracy: {test_accuracy_experiment9:.2f}')"
      ],
      "metadata": {
        "colab": {
          "base_uri": "https://localhost:8080/",
          "height": 582
        },
        "id": "VVgc8sQ5oudI",
        "outputId": "444eaaa3-8c9d-4115-87dc-d40ec3fe2982"
      },
      "execution_count": 26,
      "outputs": [
        {
          "output_type": "execute_result",
          "data": {
            "text/plain": [
              "Text(0.5, 1.0, '[Transfer Learning with Inception Model + 30 Epochs + SGD + Transform + Image Normalization + Data Augmentation + Batch Size 32] Test Accuracy: 94.95')"
            ]
          },
          "metadata": {},
          "execution_count": 26
        },
        {
          "output_type": "display_data",
          "data": {
            "text/plain": [
              "<Figure size 1152x648 with 2 Axes>"
            ],
            "image/png": "[encoded data removed]"
          },
          "metadata": {
            "needs_background": "light"
          }
        }
      ]
    },
    {
      "cell_type": "code",
      "source": [],
      "metadata": {
        "id": "ylZxk60Toufd"
      },
      "execution_count": null,
      "outputs": []
    },
    {
      "cell_type": "code",
      "source": [],
      "metadata": {
        "id": "QLIP8HBxoLbF"
      },
      "execution_count": null,
      "outputs": []
    },
    {
      "cell_type": "code",
      "source": [
        "image_size = (224, 224)\n",
        "train_set = SeedlingDataset(\n",
        "    X_train.file, y_train, '/content/plants/train/',\n",
        "    transform=transforms.Compose([\n",
        "        transforms.Resize(size=image_size),\n",
        "        transforms.ToTensor()]))\n",
        "\n",
        "means = []\n",
        "means_sq = []\n",
        "\n",
        "for img, _ in tqdm_notebook(train_set):\n",
        "    means.append(np.asarray(img, dtype='float32').mean(axis=(1,2)))\n",
        "    means_sq.append((np.asarray(img, dtype='float32') ** 2).mean(axis=(1,2)))\n",
        "\n",
        "mean_img = np.mean(means, axis=0)\n",
        "std_img = np.sqrt(np.mean(means_sq, axis=0) - (mean_img ** 2))"
      ],
      "metadata": {
        "colab": {
          "base_uri": "https://localhost:8080/",
          "height": 102,
          "referenced_widgets": [
            "c984a01d2ffc49e9abb5bd7b7ad5da89",
            "94c427dbb2944b96be2c73941ed5732a",
            "27f74cf4e47740fc9ec2fbe28707bdf9",
            "6425887405eb40ee9f5a55403e2b982e",
            "198d83100aa2412d9f237b1aae63592f",
            "167d9b16b9ac4377b9359c986b83d0b1",
            "066467f63af047ec835bc11717f56d8c",
            "537b213e1e664724a36c06a7aef4e622",
            "d92522226192458593843f6a390769e7",
            "6c58b00ce96a4570891ddc2eebe5d089",
            "e1a43ab35463479fbece79454ab3428d"
          ]
        },
        "id": "WYXMRxjAny6h",
        "outputId": "b5e583bd-58e6-42e4-8943-d70815f5c6f8"
      },
      "execution_count": 18,
      "outputs": [
        {
          "output_type": "stream",
          "name": "stderr",
          "text": [
            "<ipython-input-18-0e1cf4118983>:11: TqdmDeprecationWarning: This function will be removed in tqdm==5.0.0\n",
            "Please use `tqdm.notebook.tqdm` instead of `tqdm.tqdm_notebook`\n",
            "  for img, _ in tqdm_notebook(train_set):\n"
          ]
        },
        {
          "output_type": "display_data",
          "data": {
            "text/plain": [
              "  0%|          | 0/3040 [00:00<?, ?it/s]"
            ],
            "application/vnd.jupyter.widget-view+json": {
              "version_major": 2,
              "version_minor": 0,
              "model_id": "c984a01d2ffc49e9abb5bd7b7ad5da89"
            }
          },
          "metadata": {}
        }
      ]
    },
    {
      "cell_type": "code",
      "source": [],
      "metadata": {
        "id": "XK8P58yeAW_g"
      },
      "execution_count": null,
      "outputs": []
    },
    {
      "cell_type": "markdown",
      "source": [
        "# **DENSENET-121 Transfer Learning + 30 Epochs + SGD + Transform + Image Normalization + Data Augmentation + Batch Size 32**"
      ],
      "metadata": {
        "id": "f9EfCZI5AuVq"
      }
    },
    {
      "cell_type": "code",
      "source": [
        "# Load the pretrained model from pytorch\n",
        "densenet = models.densenet121(pretrained=True)\n",
        "print(f'Number of output fearurs of pretrained densenet is: {densenet.classifier.out_features}') # 1000\n",
        "\n",
        "# Freeze training for all layers\n",
        "for param in densenet.parameters():\n",
        "    param.require_grad = False\n",
        "\n",
        "# Newly created modules have require_grad=True by default\n",
        "classifier_inputs = densenet.classifier.in_features\n",
        "densenet.classifier = nn.Sequential(\n",
        "    nn.Linear(classifier_inputs, 256),\n",
        "    nn.ReLU(),\n",
        "    nn.Dropout(0.4),\n",
        "    nn.Linear(256, 12), \n",
        "    nn.LogSoftmax(dim=1) # For using NLLLoss()\n",
        ")"
      ],
      "metadata": {
        "colab": {
          "base_uri": "https://localhost:8080/"
        },
        "id": "Ux9cwxVMAXdV",
        "outputId": "ea2ca667-e497-467e-9db6-e5b7ba3db7e7"
      },
      "execution_count": 20,
      "outputs": [
        {
          "output_type": "stream",
          "name": "stdout",
          "text": [
            "Number of output fearurs of pretrained densenet is: 1000\n"
          ]
        }
      ]
    },
    {
      "cell_type": "code",
      "source": [
        "image_size = (224, 224)\n",
        "batch_size = 32\n",
        "\n",
        "train_trans = transforms.Compose([\n",
        "    transforms.transforms.RandomHorizontalFlip(),\n",
        "    transforms.transforms.RandomRotation(180),\n",
        "    transforms.transforms.RandomVerticalFlip(),\n",
        "    transforms.Resize(size=image_size),\n",
        "    transforms.ToTensor(),\n",
        "    transforms.Normalize(mean_img, std_img),\n",
        "])\n",
        "validation_trans = transforms.Compose([\n",
        "    transforms.Resize(size=image_size),\n",
        "    transforms.ToTensor(),\n",
        "    transforms.Normalize(mean_img, std_img)\n",
        "])\n",
        "\n",
        "train_set = SeedlingDataset(X_train.file, y_train, '/content/plants/train/', transform=train_trans)\n",
        "valid_set = SeedlingDataset(X_val.file, y_val, '/content/plants/train/', transform=validation_trans)\n",
        "test_set = SeedlingDataset(X_test.file, y_test, '/content/plants/train/', transform=validation_trans)\n",
        "\n",
        "train_loader = DataLoader(train_set, batch_size=batch_size, shuffle=True, num_workers=0)\n",
        "validation_loader = DataLoader(valid_set, batch_size=batch_size, shuffle=True, num_workers=0)\n",
        "\n",
        "learning_rate = 1e-3\n",
        "densenet_model = densenet.cuda()\n",
        "criterion = nn.CrossEntropyLoss()\n",
        "optimizer = optim.SGD(densenet_model.parameters(), lr=0.001, momentum=0.9)\n",
        "\n",
        "train_set = SeedlingDataset(X_train.file, y_train, '/content/plants/train/', transform=train_trans)\n",
        "valid_set = SeedlingDataset(X_val.file, y_val, '/content/plants/train/', transform=validation_trans)\n",
        "test_set = SeedlingDataset(X_test.file, y_test, '/content/plants/train/', transform=validation_trans)\n",
        "\n",
        "loaders = {\n",
        "    'train': DataLoader(train_set, batch_size=batch_size, shuffle=True, num_workers=0),\n",
        "    'validation': DataLoader(valid_set, batch_size=batch_size, shuffle=True, num_workers=0),\n",
        "    'test': DataLoader(test_set, batch_size=batch_size, shuffle=True, num_workers=0)\n",
        "}\n",
        "epochs = 30\n",
        "\n",
        "df_experiment11_result, test_accuracy_experiment11 = run_train_process(epochs, loaders, densenet_model, optimizer, criterion)\n",
        "df_experiment11_result"
      ],
      "metadata": {
        "colab": {
          "base_uri": "https://localhost:8080/",
          "height": 1000
        },
        "id": "OlOULEtaAXgX",
        "outputId": "34c6e22e-a906-482e-f713-2a4eb73390a4"
      },
      "execution_count": 21,
      "outputs": [
        {
          "output_type": "stream",
          "name": "stderr",
          "text": [
            "\r  0%|          | 0/30 [00:00<?, ?it/s]<ipython-input-15-bd074e5d3251>:34: UserWarning: volatile was removed and now has no effect. Use `with torch.no_grad():` instead.\n",
            "  data, target = Variable(data, volatile=True), Variable(target)\n",
            "  3%|▎         | 1/30 [01:45<50:49, 105.14s/it]"
          ]
        },
        {
          "output_type": "stream",
          "name": "stdout",
          "text": [
            "[0] Train Accuracy: 27.59868 , Validation Accuracy: 50.65789\n"
          ]
        },
        {
          "output_type": "stream",
          "name": "stderr",
          "text": [
            " 20%|██        | 6/30 [09:33<37:32, 93.87s/it]"
          ]
        },
        {
          "output_type": "stream",
          "name": "stdout",
          "text": [
            "[5] Train Accuracy: 91.31579 , Validation Accuracy: 90.78947\n"
          ]
        },
        {
          "output_type": "stream",
          "name": "stderr",
          "text": [
            " 37%|███▋      | 11/30 [17:11<29:09, 92.10s/it]"
          ]
        },
        {
          "output_type": "stream",
          "name": "stdout",
          "text": [
            "[10] Train Accuracy: 94.93421 , Validation Accuracy: 93.02632\n"
          ]
        },
        {
          "output_type": "stream",
          "name": "stderr",
          "text": [
            " 53%|█████▎    | 16/30 [24:47<21:20, 91.44s/it]"
          ]
        },
        {
          "output_type": "stream",
          "name": "stdout",
          "text": [
            "[15] Train Accuracy: 97.20395 , Validation Accuracy: 93.42105\n"
          ]
        },
        {
          "output_type": "stream",
          "name": "stderr",
          "text": [
            " 70%|███████   | 21/30 [32:31<13:54, 92.71s/it]"
          ]
        },
        {
          "output_type": "stream",
          "name": "stdout",
          "text": [
            "[20] Train Accuracy: 97.69736 , Validation Accuracy: 95.65789\n"
          ]
        },
        {
          "output_type": "stream",
          "name": "stderr",
          "text": [
            " 87%|████████▋ | 26/30 [40:14<06:10, 92.65s/it]"
          ]
        },
        {
          "output_type": "stream",
          "name": "stdout",
          "text": [
            "[25] Train Accuracy: 98.25658 , Validation Accuracy: 95.39474\n"
          ]
        },
        {
          "output_type": "stream",
          "name": "stderr",
          "text": [
            "100%|██████████| 30/30 [46:26<00:00, 92.87s/it]\n"
          ]
        },
        {
          "output_type": "execute_result",
          "data": {
            "text/plain": [
              "    train_loss  train_accuracy  validation_loss  validation_accuracy\n",
              "0     2.237615       27.598684         1.839878            50.657895\n",
              "1     1.297214       62.434212         0.908173            76.184211\n",
              "2     0.656468       81.250000         0.530822            84.210526\n",
              "3     0.406183       87.401314         0.352229            89.868421\n",
              "4     0.306804       90.032898         0.306732            89.868421\n",
              "5     0.256235       91.315788         0.279936            90.789474\n",
              "6     0.237938       91.940788         0.249274            90.921053\n",
              "7     0.200242       93.848686         0.231985            92.236842\n",
              "8     0.185569       93.651314         0.224643            91.842105\n",
              "9     0.159932       94.671051         0.191695            93.157895\n",
              "10    0.159033       94.934212         0.211094            93.026316\n",
              "11    0.136405       95.592102         0.186492            93.815789\n",
              "12    0.143541       95.000000         0.197127            92.500000\n",
              "13    0.125187       95.888161         0.169504            93.947368\n",
              "14    0.110459       96.743423         0.201360            93.026316\n",
              "15    0.095813       97.203949         0.207979            93.421053\n",
              "16    0.097574       96.809212         0.191115            93.157895\n",
              "17    0.087250       97.368423         0.168482            94.736842\n",
              "18    0.085933       97.105263         0.179455            94.210526\n",
              "19    0.088086       97.664474         0.173991            94.342105\n",
              "20    0.074848       97.697365         0.140744            95.657895\n",
              "21    0.077835       97.500000         0.170422            94.473684\n",
              "22    0.074341       97.697365         0.128387            95.657895\n",
              "23    0.078355       97.500000         0.150174            95.131579\n",
              "24    0.071298       97.730263         0.155309            95.657895\n",
              "25    0.060054       98.256577         0.146259            95.394737\n",
              "26    0.056059       98.289474         0.214424            92.105263\n",
              "27    0.055300       97.927635         0.154692            95.394737\n",
              "28    0.050355       98.717102         0.161562            93.947368\n",
              "29    0.057176       98.190788         0.150174            95.526316"
            ],
            "text/html": [
              "\n",
              "  <div id=\"df-d559d4ba-a9d8-4b08-a30d-19236e40c816\">\n",
              "    <div class=\"colab-df-container\">\n",
              "      <div>\n",
              "<style scoped>\n",
              "    .dataframe tbody tr th:only-of-type {\n",
              "        vertical-align: middle;\n",
              "    }\n",
              "\n",
              "    .dataframe tbody tr th {\n",
              "        vertical-align: top;\n",
              "    }\n",
              "\n",
              "    .dataframe thead th {\n",
              "        text-align: right;\n",
              "    }\n",
              "</style>\n",
              "<table border=\"1\" class=\"dataframe\">\n",
              "  <thead>\n",
              "    <tr style=\"text-align: right;\">\n",
              "      <th></th>\n",
              "      <th>train_loss</th>\n",
              "      <th>train_accuracy</th>\n",
              "      <th>validation_loss</th>\n",
              "      <th>validation_accuracy</th>\n",
              "    </tr>\n",
              "  </thead>\n",
              "  <tbody>\n",
              "    <tr>\n",
              "      <th>0</th>\n",
              "      <td>2.237615</td>\n",
              "      <td>27.598684</td>\n",
              "      <td>1.839878</td>\n",
              "      <td>50.657895</td>\n",
              "    </tr>\n",
              "    <tr>\n",
              "      <th>1</th>\n",
              "      <td>1.297214</td>\n",
              "      <td>62.434212</td>\n",
              "      <td>0.908173</td>\n",
              "      <td>76.184211</td>\n",
              "    </tr>\n",
              "    <tr>\n",
              "      <th>2</th>\n",
              "      <td>0.656468</td>\n",
              "      <td>81.250000</td>\n",
              "      <td>0.530822</td>\n",
              "      <td>84.210526</td>\n",
              "    </tr>\n",
              "    <tr>\n",
              "      <th>3</th>\n",
              "      <td>0.406183</td>\n",
              "      <td>87.401314</td>\n",
              "      <td>0.352229</td>\n",
              "      <td>89.868421</td>\n",
              "    </tr>\n",
              "    <tr>\n",
              "      <th>4</th>\n",
              "      <td>0.306804</td>\n",
              "      <td>90.032898</td>\n",
              "      <td>0.306732</td>\n",
              "      <td>89.868421</td>\n",
              "    </tr>\n",
              "    <tr>\n",
              "      <th>5</th>\n",
              "      <td>0.256235</td>\n",
              "      <td>91.315788</td>\n",
              "      <td>0.279936</td>\n",
              "      <td>90.789474</td>\n",
              "    </tr>\n",
              "    <tr>\n",
              "      <th>6</th>\n",
              "      <td>0.237938</td>\n",
              "      <td>91.940788</td>\n",
              "      <td>0.249274</td>\n",
              "      <td>90.921053</td>\n",
              "    </tr>\n",
              "    <tr>\n",
              "      <th>7</th>\n",
              "      <td>0.200242</td>\n",
              "      <td>93.848686</td>\n",
              "      <td>0.231985</td>\n",
              "      <td>92.236842</td>\n",
              "    </tr>\n",
              "    <tr>\n",
              "      <th>8</th>\n",
              "      <td>0.185569</td>\n",
              "      <td>93.651314</td>\n",
              "      <td>0.224643</td>\n",
              "      <td>91.842105</td>\n",
              "    </tr>\n",
              "    <tr>\n",
              "      <th>9</th>\n",
              "      <td>0.159932</td>\n",
              "      <td>94.671051</td>\n",
              "      <td>0.191695</td>\n",
              "      <td>93.157895</td>\n",
              "    </tr>\n",
              "    <tr>\n",
              "      <th>10</th>\n",
              "      <td>0.159033</td>\n",
              "      <td>94.934212</td>\n",
              "      <td>0.211094</td>\n",
              "      <td>93.026316</td>\n",
              "    </tr>\n",
              "    <tr>\n",
              "      <th>11</th>\n",
              "      <td>0.136405</td>\n",
              "      <td>95.592102</td>\n",
              "      <td>0.186492</td>\n",
              "      <td>93.815789</td>\n",
              "    </tr>\n",
              "    <tr>\n",
              "      <th>12</th>\n",
              "      <td>0.143541</td>\n",
              "      <td>95.000000</td>\n",
              "      <td>0.197127</td>\n",
              "      <td>92.500000</td>\n",
              "    </tr>\n",
              "    <tr>\n",
              "      <th>13</th>\n",
              "      <td>0.125187</td>\n",
              "      <td>95.888161</td>\n",
              "      <td>0.169504</td>\n",
              "      <td>93.947368</td>\n",
              "    </tr>\n",
              "    <tr>\n",
              "      <th>14</th>\n",
              "      <td>0.110459</td>\n",
              "      <td>96.743423</td>\n",
              "      <td>0.201360</td>\n",
              "      <td>93.026316</td>\n",
              "    </tr>\n",
              "    <tr>\n",
              "      <th>15</th>\n",
              "      <td>0.095813</td>\n",
              "      <td>97.203949</td>\n",
              "      <td>0.207979</td>\n",
              "      <td>93.421053</td>\n",
              "    </tr>\n",
              "    <tr>\n",
              "      <th>16</th>\n",
              "      <td>0.097574</td>\n",
              "      <td>96.809212</td>\n",
              "      <td>0.191115</td>\n",
              "      <td>93.157895</td>\n",
              "    </tr>\n",
              "    <tr>\n",
              "      <th>17</th>\n",
              "      <td>0.087250</td>\n",
              "      <td>97.368423</td>\n",
              "      <td>0.168482</td>\n",
              "      <td>94.736842</td>\n",
              "    </tr>\n",
              "    <tr>\n",
              "      <th>18</th>\n",
              "      <td>0.085933</td>\n",
              "      <td>97.105263</td>\n",
              "      <td>0.179455</td>\n",
              "      <td>94.210526</td>\n",
              "    </tr>\n",
              "    <tr>\n",
              "      <th>19</th>\n",
              "      <td>0.088086</td>\n",
              "      <td>97.664474</td>\n",
              "      <td>0.173991</td>\n",
              "      <td>94.342105</td>\n",
              "    </tr>\n",
              "    <tr>\n",
              "      <th>20</th>\n",
              "      <td>0.074848</td>\n",
              "      <td>97.697365</td>\n",
              "      <td>0.140744</td>\n",
              "      <td>95.657895</td>\n",
              "    </tr>\n",
              "    <tr>\n",
              "      <th>21</th>\n",
              "      <td>0.077835</td>\n",
              "      <td>97.500000</td>\n",
              "      <td>0.170422</td>\n",
              "      <td>94.473684</td>\n",
              "    </tr>\n",
              "    <tr>\n",
              "      <th>22</th>\n",
              "      <td>0.074341</td>\n",
              "      <td>97.697365</td>\n",
              "      <td>0.128387</td>\n",
              "      <td>95.657895</td>\n",
              "    </tr>\n",
              "    <tr>\n",
              "      <th>23</th>\n",
              "      <td>0.078355</td>\n",
              "      <td>97.500000</td>\n",
              "      <td>0.150174</td>\n",
              "      <td>95.131579</td>\n",
              "    </tr>\n",
              "    <tr>\n",
              "      <th>24</th>\n",
              "      <td>0.071298</td>\n",
              "      <td>97.730263</td>\n",
              "      <td>0.155309</td>\n",
              "      <td>95.657895</td>\n",
              "    </tr>\n",
              "    <tr>\n",
              "      <th>25</th>\n",
              "      <td>0.060054</td>\n",
              "      <td>98.256577</td>\n",
              "      <td>0.146259</td>\n",
              "      <td>95.394737</td>\n",
              "    </tr>\n",
              "    <tr>\n",
              "      <th>26</th>\n",
              "      <td>0.056059</td>\n",
              "      <td>98.289474</td>\n",
              "      <td>0.214424</td>\n",
              "      <td>92.105263</td>\n",
              "    </tr>\n",
              "    <tr>\n",
              "      <th>27</th>\n",
              "      <td>0.055300</td>\n",
              "      <td>97.927635</td>\n",
              "      <td>0.154692</td>\n",
              "      <td>95.394737</td>\n",
              "    </tr>\n",
              "    <tr>\n",
              "      <th>28</th>\n",
              "      <td>0.050355</td>\n",
              "      <td>98.717102</td>\n",
              "      <td>0.161562</td>\n",
              "      <td>93.947368</td>\n",
              "    </tr>\n",
              "    <tr>\n",
              "      <th>29</th>\n",
              "      <td>0.057176</td>\n",
              "      <td>98.190788</td>\n",
              "      <td>0.150174</td>\n",
              "      <td>95.526316</td>\n",
              "    </tr>\n",
              "  </tbody>\n",
              "</table>\n",
              "</div>\n",
              "      <button class=\"colab-df-convert\" onclick=\"convertToInteractive('df-d559d4ba-a9d8-4b08-a30d-19236e40c816')\"\n",
              "              title=\"Convert this dataframe to an interactive table.\"\n",
              "              style=\"display:none;\">\n",
              "        \n",
              "  <svg xmlns=\"http://www.w3.org/2000/svg\" height=\"24px\"viewBox=\"0 0 24 24\"\n",
              "       width=\"24px\">\n",
              "    <path d=\"M0 0h24v24H0V0z\" fill=\"none\"/>\n",
              "    <path d=\"M18.56 5.44l.94 2.06.94-2.06 2.06-.94-2.06-.94-.94-2.06-.94 2.06-2.06.94zm-11 1L8.5 8.5l.94-2.06 2.06-.94-2.06-.94L8.5 2.5l-.94 2.06-2.06.94zm10 10l.94 2.06.94-2.06 2.06-.94-2.06-.94-.94-2.06-.94 2.06-2.06.94z\"/><path d=\"M17.41 7.96l-1.37-1.37c-.4-.4-.92-.59-1.43-.59-.52 0-1.04.2-1.43.59L10.3 9.45l-7.72 7.72c-.78.78-.78 2.05 0 2.83L4 21.41c.39.39.9.59 1.41.59.51 0 1.02-.2 1.41-.59l7.78-7.78 2.81-2.81c.8-.78.8-2.07 0-2.86zM5.41 20L4 18.59l7.72-7.72 1.47 1.35L5.41 20z\"/>\n",
              "  </svg>\n",
              "      </button>\n",
              "      \n",
              "  <style>\n",
              "    .colab-df-container {\n",
              "      display:flex;\n",
              "      flex-wrap:wrap;\n",
              "      gap: 12px;\n",
              "    }\n",
              "\n",
              "    .colab-df-convert {\n",
              "      background-color: #E8F0FE;\n",
              "      border: none;\n",
              "      border-radius: 50%;\n",
              "      cursor: pointer;\n",
              "      display: none;\n",
              "      fill: #1967D2;\n",
              "      height: 32px;\n",
              "      padding: 0 0 0 0;\n",
              "      width: 32px;\n",
              "    }\n",
              "\n",
              "    .colab-df-convert:hover {\n",
              "      background-color: #E2EBFA;\n",
              "      box-shadow: 0px 1px 2px rgba(60, 64, 67, 0.3), 0px 1px 3px 1px rgba(60, 64, 67, 0.15);\n",
              "      fill: #174EA6;\n",
              "    }\n",
              "\n",
              "    [theme=dark] .colab-df-convert {\n",
              "      background-color: #3B4455;\n",
              "      fill: #D2E3FC;\n",
              "    }\n",
              "\n",
              "    [theme=dark] .colab-df-convert:hover {\n",
              "      background-color: #434B5C;\n",
              "      box-shadow: 0px 1px 3px 1px rgba(0, 0, 0, 0.15);\n",
              "      filter: drop-shadow(0px 1px 2px rgba(0, 0, 0, 0.3));\n",
              "      fill: #FFFFFF;\n",
              "    }\n",
              "  </style>\n",
              "\n",
              "      <script>\n",
              "        const buttonEl =\n",
              "          document.querySelector('#df-d559d4ba-a9d8-4b08-a30d-19236e40c816 button.colab-df-convert');\n",
              "        buttonEl.style.display =\n",
              "          google.colab.kernel.accessAllowed ? 'block' : 'none';\n",
              "\n",
              "        async function convertToInteractive(key) {\n",
              "          const element = document.querySelector('#df-d559d4ba-a9d8-4b08-a30d-19236e40c816');\n",
              "          const dataTable =\n",
              "            await google.colab.kernel.invokeFunction('convertToInteractive',\n",
              "                                                     [key], {});\n",
              "          if (!dataTable) return;\n",
              "\n",
              "          const docLinkHtml = 'Like what you see? Visit the ' +\n",
              "            '<a target=\"_blank\" href=https://colab.research.google.com/notebooks/data_table.ipynb>data table notebook</a>'\n",
              "            + ' to learn more about interactive tables.';\n",
              "          element.innerHTML = '';\n",
              "          dataTable['output_type'] = 'display_data';\n",
              "          await google.colab.output.renderOutput(dataTable, element);\n",
              "          const docLink = document.createElement('div');\n",
              "          docLink.innerHTML = docLinkHtml;\n",
              "          element.appendChild(docLink);\n",
              "        }\n",
              "      </script>\n",
              "    </div>\n",
              "  </div>\n",
              "  "
            ]
          },
          "metadata": {},
          "execution_count": 21
        }
      ]
    },
    {
      "cell_type": "code",
      "source": [
        "ax = df_experiment11_result[['train_accuracy', 'validation_accuracy']].plot(figsize=(16,9),)\n",
        "df_experiment11_result[['train_loss', 'validation_loss']].plot(ax=ax.twinx())\n",
        "ax.set_title(f'[Transfer Learning with DENSENET121 + 30 Epochs + SGD + Transform + Image Normalization + Data Augmentation + Batch Size 32] Test Accuracy: {test_accuracy_experiment11:.2f}')"
      ],
      "metadata": {
        "colab": {
          "base_uri": "https://localhost:8080/",
          "height": 585
        },
        "id": "ReecRCM2AXjF",
        "outputId": "429437c9-0323-4a81-96fb-4cf2e1bce7c0"
      },
      "execution_count": 22,
      "outputs": [
        {
          "output_type": "execute_result",
          "data": {
            "text/plain": [
              "Text(0.5, 1.0, '[Transfer Learning with DENSENET121 + 30 Epochs + SGD + Transform + Image Normalization + Data Augmentation + Batch Size 32] Test Accuracy: 95.26')"
            ]
          },
          "metadata": {},
          "execution_count": 22
        },
        {
          "output_type": "display_data",
          "data": {
            "text/plain": [
              "<Figure size 1152x648 with 2 Axes>"
            ],
            "image/png": "[encoded data removed]"
          },
          "metadata": {
            "needs_background": "light"
          }
        }
      ]
    },
    {
      "cell_type": "code",
      "source": [],
      "metadata": {
        "id": "Wd84cqySAXl5"
      },
      "execution_count": null,
      "outputs": []
    },
    {
      "cell_type": "code",
      "source": [],
      "metadata": {
        "id": "euvAqxtNAXor"
      },
      "execution_count": null,
      "outputs": []
    },
    {
      "cell_type": "markdown",
      "source": [
        "# **SQUEEZENET Transfer Learning + 30 Epochs + SGD + Transform + Image Normalization + Data Augmentation + Batch Size 32**"
      ],
      "metadata": {
        "id": "u8FlUE2gPEJp"
      }
    },
    {
      "cell_type": "code",
      "source": [
        "# Load the pretrained model from pytorch\n",
        "squeezenet = models.squeezenet1_0(pretrained=True)\n",
        "\n",
        "# Freeze training for all layers\n",
        "for param in squeezenet.parameters():\n",
        "    param.require_grad = False\n",
        "\n",
        "# Newly created modules have require_grad=True by default\n",
        "squeezenet.classifier[1] = nn.Conv2d(512, 12, kernel_size=(1,1), stride=(1,1))\n",
        "\n",
        "squeezenet.num_classes = 12\n"
      ],
      "metadata": {
        "colab": {
          "base_uri": "https://localhost:8080/"
        },
        "id": "zxxscAnTAXrC",
        "outputId": "4482e7b6-b0b5-4f88-a2f1-72a9ab277742"
      },
      "execution_count": 27,
      "outputs": [
        {
          "output_type": "stream",
          "name": "stderr",
          "text": [
            "/usr/local/lib/python3.9/dist-packages/torchvision/models/_utils.py:208: UserWarning: The parameter 'pretrained' is deprecated since 0.13 and may be removed in the future, please use 'weights' instead.\n",
            "  warnings.warn(\n",
            "/usr/local/lib/python3.9/dist-packages/torchvision/models/_utils.py:223: UserWarning: Arguments other than a weight enum or `None` for 'weights' are deprecated since 0.13 and may be removed in the future. The current behavior is equivalent to passing `weights=SqueezeNet1_0_Weights.IMAGENET1K_V1`. You can also use `weights=SqueezeNet1_0_Weights.DEFAULT` to get the most up-to-date weights.\n",
            "  warnings.warn(msg)\n"
          ]
        }
      ]
    },
    {
      "cell_type": "code",
      "source": [
        "image_size = (224, 224)\n",
        "batch_size = 32\n",
        "\n",
        "train_trans = transforms.Compose([\n",
        "    transforms.transforms.RandomHorizontalFlip(),\n",
        "    transforms.transforms.RandomRotation(180),\n",
        "    transforms.transforms.RandomVerticalFlip(),\n",
        "    transforms.Resize(size=image_size),\n",
        "    transforms.ToTensor(),\n",
        "    transforms.Normalize(mean_img, std_img),\n",
        "])\n",
        "validation_trans = transforms.Compose([\n",
        "    transforms.Resize(size=image_size),\n",
        "    transforms.ToTensor(),\n",
        "    transforms.Normalize(mean_img, std_img)\n",
        "])\n",
        "\n",
        "train_set = SeedlingDataset(X_train.file, y_train, '/content/plants/train/', transform=train_trans)\n",
        "valid_set = SeedlingDataset(X_val.file, y_val, '/content/plants/train/', transform=validation_trans)\n",
        "test_set = SeedlingDataset(X_test.file, y_test, '/content/plants/train/', transform=validation_trans)\n",
        "\n",
        "train_loader = DataLoader(train_set, batch_size=batch_size, shuffle=True, num_workers=0)\n",
        "validation_loader = DataLoader(valid_set, batch_size=batch_size, shuffle=True, num_workers=0)\n",
        "\n",
        "learning_rate = 1e-3\n",
        "squeezenet_model = squeezenet.cuda()\n",
        "criterion = nn.CrossEntropyLoss()\n",
        "optimizer = optim.SGD(squeezenet_model.parameters(), lr=0.001, momentum=0.9)\n",
        "\n",
        "train_set = SeedlingDataset(X_train.file, y_train, '/content/plants/train/', transform=train_trans)\n",
        "valid_set = SeedlingDataset(X_val.file, y_val, '/content/plants/train/', transform=validation_trans)\n",
        "test_set = SeedlingDataset(X_test.file, y_test, '/content/plants/train/', transform=validation_trans)\n",
        "\n",
        "loaders = {\n",
        "    'train': DataLoader(train_set, batch_size=batch_size, shuffle=True, num_workers=0),\n",
        "    'validation': DataLoader(valid_set, batch_size=batch_size, shuffle=True, num_workers=0),\n",
        "    'test': DataLoader(test_set, batch_size=batch_size, shuffle=True, num_workers=0)\n",
        "}\n",
        "epochs = 30\n",
        "\n",
        "df_experiment12_result, test_accuracy_experiment12 = run_train_process(epochs, loaders, squeezenet_model, optimizer, criterion)\n",
        "df_experiment12_result"
      ],
      "metadata": {
        "colab": {
          "base_uri": "https://localhost:8080/",
          "height": 1000
        },
        "id": "zbCpP0BZNko3",
        "outputId": "70f05e6b-cbbd-4d68-bea7-2cf759f474b1"
      },
      "execution_count": 28,
      "outputs": [
        {
          "output_type": "stream",
          "name": "stderr",
          "text": [
            "\r  0%|          | 0/30 [00:00<?, ?it/s]<ipython-input-15-bd074e5d3251>:34: UserWarning: volatile was removed and now has no effect. Use `with torch.no_grad():` instead.\n",
            "  data, target = Variable(data, volatile=True), Variable(target)\n",
            "  3%|▎         | 1/30 [01:13<35:44, 73.94s/it]"
          ]
        },
        {
          "output_type": "stream",
          "name": "stdout",
          "text": [
            "[0] Train Accuracy: 39.04605 , Validation Accuracy: 70.65789\n"
          ]
        },
        {
          "output_type": "stream",
          "name": "stderr",
          "text": [
            " 20%|██        | 6/30 [07:01<27:40, 69.18s/it]"
          ]
        },
        {
          "output_type": "stream",
          "name": "stdout",
          "text": [
            "[5] Train Accuracy: 89.40790 , Validation Accuracy: 91.84211\n"
          ]
        },
        {
          "output_type": "stream",
          "name": "stderr",
          "text": [
            " 37%|███▋      | 11/30 [12:44<21:45, 68.72s/it]"
          ]
        },
        {
          "output_type": "stream",
          "name": "stdout",
          "text": [
            "[10] Train Accuracy: 91.67764 , Validation Accuracy: 93.15789\n"
          ]
        },
        {
          "output_type": "stream",
          "name": "stderr",
          "text": [
            " 53%|█████▎    | 16/30 [18:20<15:40, 67.14s/it]"
          ]
        },
        {
          "output_type": "stream",
          "name": "stdout",
          "text": [
            "[15] Train Accuracy: 94.17764 , Validation Accuracy: 94.47368\n"
          ]
        },
        {
          "output_type": "stream",
          "name": "stderr",
          "text": [
            " 70%|███████   | 21/30 [23:52<10:00, 66.68s/it]"
          ]
        },
        {
          "output_type": "stream",
          "name": "stdout",
          "text": [
            "[20] Train Accuracy: 94.67105 , Validation Accuracy: 95.13158\n"
          ]
        },
        {
          "output_type": "stream",
          "name": "stderr",
          "text": [
            " 87%|████████▋ | 26/30 [29:26<04:27, 66.87s/it]"
          ]
        },
        {
          "output_type": "stream",
          "name": "stdout",
          "text": [
            "[25] Train Accuracy: 96.41447 , Validation Accuracy: 96.84211\n"
          ]
        },
        {
          "output_type": "stream",
          "name": "stderr",
          "text": [
            "100%|██████████| 30/30 [33:51<00:00, 67.73s/it]\n"
          ]
        },
        {
          "output_type": "execute_result",
          "data": {
            "text/plain": [
              "    train_loss  train_accuracy  validation_loss  validation_accuracy\n",
              "0     1.820059       39.046051         0.907678            70.657895\n",
              "1     0.764795       74.078949         0.337166            88.815789\n",
              "2     0.450500       85.065788         0.537120            80.921053\n",
              "3     0.419850       85.493423         0.273518            89.210526\n",
              "4     0.331273       88.059212         0.318593            88.026316\n",
              "5     0.317607       89.407898         0.211178            91.842105\n",
              "6     0.324929       88.355263         0.268974            89.210526\n",
              "7     0.240915       91.085526         0.297660            88.684211\n",
              "8     0.227158       91.578949         0.253745            92.105263\n",
              "9     0.246687       91.315788         0.214529            92.631579\n",
              "10    0.221202       91.677635         0.159979            93.157895\n",
              "11    0.208040       92.730263         0.206725            93.815789\n",
              "12    0.190081       93.651314         0.176695            92.763158\n",
              "13    0.202288       92.993423         0.216939            91.842105\n",
              "14    0.168426       94.013161         0.170681            93.157895\n",
              "15    0.162962       94.177635         0.131545            94.473684\n",
              "16    0.159830       94.144737         0.149932            94.473684\n",
              "17    0.145828       95.164474         0.144494            94.210526\n",
              "18    0.156997       94.440788         0.189112            92.763158\n",
              "19    0.159913       94.046051         0.149934            95.131579\n",
              "20    0.149121       94.671051         0.148449            95.131579\n",
              "21    0.141076       94.473686         0.120616            95.394737\n",
              "22    0.154930       94.342102         0.116445            95.263158\n",
              "23    0.131284       95.361839         0.115900            95.921053\n",
              "24    0.120446       95.526314         0.114823            96.447368\n",
              "25    0.109961       96.414474         0.078168            96.842105\n",
              "26    0.119084       95.953949         0.115711            95.394737\n",
              "27    0.138216       95.098686         0.112380            95.657895\n",
              "28    0.120812       95.361839         0.093470            96.052632\n",
              "29    0.121594       95.592102         0.115702            96.052632"
            ],
            "text/html": [
              "\n",
              "  <div id=\"df-33071bcf-2068-4697-880f-4f0f13edef5d\">\n",
              "    <div class=\"colab-df-container\">\n",
              "      <div>\n",
              "<style scoped>\n",
              "    .dataframe tbody tr th:only-of-type {\n",
              "        vertical-align: middle;\n",
              "    }\n",
              "\n",
              "    .dataframe tbody tr th {\n",
              "        vertical-align: top;\n",
              "    }\n",
              "\n",
              "    .dataframe thead th {\n",
              "        text-align: right;\n",
              "    }\n",
              "</style>\n",
              "<table border=\"1\" class=\"dataframe\">\n",
              "  <thead>\n",
              "    <tr style=\"text-align: right;\">\n",
              "      <th></th>\n",
              "      <th>train_loss</th>\n",
              "      <th>train_accuracy</th>\n",
              "      <th>validation_loss</th>\n",
              "      <th>validation_accuracy</th>\n",
              "    </tr>\n",
              "  </thead>\n",
              "  <tbody>\n",
              "    <tr>\n",
              "      <th>0</th>\n",
              "      <td>1.820059</td>\n",
              "      <td>39.046051</td>\n",
              "      <td>0.907678</td>\n",
              "      <td>70.657895</td>\n",
              "    </tr>\n",
              "    <tr>\n",
              "      <th>1</th>\n",
              "      <td>0.764795</td>\n",
              "      <td>74.078949</td>\n",
              "      <td>0.337166</td>\n",
              "      <td>88.815789</td>\n",
              "    </tr>\n",
              "    <tr>\n",
              "      <th>2</th>\n",
              "      <td>0.450500</td>\n",
              "      <td>85.065788</td>\n",
              "      <td>0.537120</td>\n",
              "      <td>80.921053</td>\n",
              "    </tr>\n",
              "    <tr>\n",
              "      <th>3</th>\n",
              "      <td>0.419850</td>\n",
              "      <td>85.493423</td>\n",
              "      <td>0.273518</td>\n",
              "      <td>89.210526</td>\n",
              "    </tr>\n",
              "    <tr>\n",
              "      <th>4</th>\n",
              "      <td>0.331273</td>\n",
              "      <td>88.059212</td>\n",
              "      <td>0.318593</td>\n",
              "      <td>88.026316</td>\n",
              "    </tr>\n",
              "    <tr>\n",
              "      <th>5</th>\n",
              "      <td>0.317607</td>\n",
              "      <td>89.407898</td>\n",
              "      <td>0.211178</td>\n",
              "      <td>91.842105</td>\n",
              "    </tr>\n",
              "    <tr>\n",
              "      <th>6</th>\n",
              "      <td>0.324929</td>\n",
              "      <td>88.355263</td>\n",
              "      <td>0.268974</td>\n",
              "      <td>89.210526</td>\n",
              "    </tr>\n",
              "    <tr>\n",
              "      <th>7</th>\n",
              "      <td>0.240915</td>\n",
              "      <td>91.085526</td>\n",
              "      <td>0.297660</td>\n",
              "      <td>88.684211</td>\n",
              "    </tr>\n",
              "    <tr>\n",
              "      <th>8</th>\n",
              "      <td>0.227158</td>\n",
              "      <td>91.578949</td>\n",
              "      <td>0.253745</td>\n",
              "      <td>92.105263</td>\n",
              "    </tr>\n",
              "    <tr>\n",
              "      <th>9</th>\n",
              "      <td>0.246687</td>\n",
              "      <td>91.315788</td>\n",
              "      <td>0.214529</td>\n",
              "      <td>92.631579</td>\n",
              "    </tr>\n",
              "    <tr>\n",
              "      <th>10</th>\n",
              "      <td>0.221202</td>\n",
              "      <td>91.677635</td>\n",
              "      <td>0.159979</td>\n",
              "      <td>93.157895</td>\n",
              "    </tr>\n",
              "    <tr>\n",
              "      <th>11</th>\n",
              "      <td>0.208040</td>\n",
              "      <td>92.730263</td>\n",
              "      <td>0.206725</td>\n",
              "      <td>93.815789</td>\n",
              "    </tr>\n",
              "    <tr>\n",
              "      <th>12</th>\n",
              "      <td>0.190081</td>\n",
              "      <td>93.651314</td>\n",
              "      <td>0.176695</td>\n",
              "      <td>92.763158</td>\n",
              "    </tr>\n",
              "    <tr>\n",
              "      <th>13</th>\n",
              "      <td>0.202288</td>\n",
              "      <td>92.993423</td>\n",
              "      <td>0.216939</td>\n",
              "      <td>91.842105</td>\n",
              "    </tr>\n",
              "    <tr>\n",
              "      <th>14</th>\n",
              "      <td>0.168426</td>\n",
              "      <td>94.013161</td>\n",
              "      <td>0.170681</td>\n",
              "      <td>93.157895</td>\n",
              "    </tr>\n",
              "    <tr>\n",
              "      <th>15</th>\n",
              "      <td>0.162962</td>\n",
              "      <td>94.177635</td>\n",
              "      <td>0.131545</td>\n",
              "      <td>94.473684</td>\n",
              "    </tr>\n",
              "    <tr>\n",
              "      <th>16</th>\n",
              "      <td>0.159830</td>\n",
              "      <td>94.144737</td>\n",
              "      <td>0.149932</td>\n",
              "      <td>94.473684</td>\n",
              "    </tr>\n",
              "    <tr>\n",
              "      <th>17</th>\n",
              "      <td>0.145828</td>\n",
              "      <td>95.164474</td>\n",
              "      <td>0.144494</td>\n",
              "      <td>94.210526</td>\n",
              "    </tr>\n",
              "    <tr>\n",
              "      <th>18</th>\n",
              "      <td>0.156997</td>\n",
              "      <td>94.440788</td>\n",
              "      <td>0.189112</td>\n",
              "      <td>92.763158</td>\n",
              "    </tr>\n",
              "    <tr>\n",
              "      <th>19</th>\n",
              "      <td>0.159913</td>\n",
              "      <td>94.046051</td>\n",
              "      <td>0.149934</td>\n",
              "      <td>95.131579</td>\n",
              "    </tr>\n",
              "    <tr>\n",
              "      <th>20</th>\n",
              "      <td>0.149121</td>\n",
              "      <td>94.671051</td>\n",
              "      <td>0.148449</td>\n",
              "      <td>95.131579</td>\n",
              "    </tr>\n",
              "    <tr>\n",
              "      <th>21</th>\n",
              "      <td>0.141076</td>\n",
              "      <td>94.473686</td>\n",
              "      <td>0.120616</td>\n",
              "      <td>95.394737</td>\n",
              "    </tr>\n",
              "    <tr>\n",
              "      <th>22</th>\n",
              "      <td>0.154930</td>\n",
              "      <td>94.342102</td>\n",
              "      <td>0.116445</td>\n",
              "      <td>95.263158</td>\n",
              "    </tr>\n",
              "    <tr>\n",
              "      <th>23</th>\n",
              "      <td>0.131284</td>\n",
              "      <td>95.361839</td>\n",
              "      <td>0.115900</td>\n",
              "      <td>95.921053</td>\n",
              "    </tr>\n",
              "    <tr>\n",
              "      <th>24</th>\n",
              "      <td>0.120446</td>\n",
              "      <td>95.526314</td>\n",
              "      <td>0.114823</td>\n",
              "      <td>96.447368</td>\n",
              "    </tr>\n",
              "    <tr>\n",
              "      <th>25</th>\n",
              "      <td>0.109961</td>\n",
              "      <td>96.414474</td>\n",
              "      <td>0.078168</td>\n",
              "      <td>96.842105</td>\n",
              "    </tr>\n",
              "    <tr>\n",
              "      <th>26</th>\n",
              "      <td>0.119084</td>\n",
              "      <td>95.953949</td>\n",
              "      <td>0.115711</td>\n",
              "      <td>95.394737</td>\n",
              "    </tr>\n",
              "    <tr>\n",
              "      <th>27</th>\n",
              "      <td>0.138216</td>\n",
              "      <td>95.098686</td>\n",
              "      <td>0.112380</td>\n",
              "      <td>95.657895</td>\n",
              "    </tr>\n",
              "    <tr>\n",
              "      <th>28</th>\n",
              "      <td>0.120812</td>\n",
              "      <td>95.361839</td>\n",
              "      <td>0.093470</td>\n",
              "      <td>96.052632</td>\n",
              "    </tr>\n",
              "    <tr>\n",
              "      <th>29</th>\n",
              "      <td>0.121594</td>\n",
              "      <td>95.592102</td>\n",
              "      <td>0.115702</td>\n",
              "      <td>96.052632</td>\n",
              "    </tr>\n",
              "  </tbody>\n",
              "</table>\n",
              "</div>\n",
              "      <button class=\"colab-df-convert\" onclick=\"convertToInteractive('df-33071bcf-2068-4697-880f-4f0f13edef5d')\"\n",
              "              title=\"Convert this dataframe to an interactive table.\"\n",
              "              style=\"display:none;\">\n",
              "        \n",
              "  <svg xmlns=\"http://www.w3.org/2000/svg\" height=\"24px\"viewBox=\"0 0 24 24\"\n",
              "       width=\"24px\">\n",
              "    <path d=\"M0 0h24v24H0V0z\" fill=\"none\"/>\n",
              "    <path d=\"M18.56 5.44l.94 2.06.94-2.06 2.06-.94-2.06-.94-.94-2.06-.94 2.06-2.06.94zm-11 1L8.5 8.5l.94-2.06 2.06-.94-2.06-.94L8.5 2.5l-.94 2.06-2.06.94zm10 10l.94 2.06.94-2.06 2.06-.94-2.06-.94-.94-2.06-.94 2.06-2.06.94z\"/><path d=\"M17.41 7.96l-1.37-1.37c-.4-.4-.92-.59-1.43-.59-.52 0-1.04.2-1.43.59L10.3 9.45l-7.72 7.72c-.78.78-.78 2.05 0 2.83L4 21.41c.39.39.9.59 1.41.59.51 0 1.02-.2 1.41-.59l7.78-7.78 2.81-2.81c.8-.78.8-2.07 0-2.86zM5.41 20L4 18.59l7.72-7.72 1.47 1.35L5.41 20z\"/>\n",
              "  </svg>\n",
              "      </button>\n",
              "      \n",
              "  <style>\n",
              "    .colab-df-container {\n",
              "      display:flex;\n",
              "      flex-wrap:wrap;\n",
              "      gap: 12px;\n",
              "    }\n",
              "\n",
              "    .colab-df-convert {\n",
              "      background-color: #E8F0FE;\n",
              "      border: none;\n",
              "      border-radius: 50%;\n",
              "      cursor: pointer;\n",
              "      display: none;\n",
              "      fill: #1967D2;\n",
              "      height: 32px;\n",
              "      padding: 0 0 0 0;\n",
              "      width: 32px;\n",
              "    }\n",
              "\n",
              "    .colab-df-convert:hover {\n",
              "      background-color: #E2EBFA;\n",
              "      box-shadow: 0px 1px 2px rgba(60, 64, 67, 0.3), 0px 1px 3px 1px rgba(60, 64, 67, 0.15);\n",
              "      fill: #174EA6;\n",
              "    }\n",
              "\n",
              "    [theme=dark] .colab-df-convert {\n",
              "      background-color: #3B4455;\n",
              "      fill: #D2E3FC;\n",
              "    }\n",
              "\n",
              "    [theme=dark] .colab-df-convert:hover {\n",
              "      background-color: #434B5C;\n",
              "      box-shadow: 0px 1px 3px 1px rgba(0, 0, 0, 0.15);\n",
              "      filter: drop-shadow(0px 1px 2px rgba(0, 0, 0, 0.3));\n",
              "      fill: #FFFFFF;\n",
              "    }\n",
              "  </style>\n",
              "\n",
              "      <script>\n",
              "        const buttonEl =\n",
              "          document.querySelector('#df-33071bcf-2068-4697-880f-4f0f13edef5d button.colab-df-convert');\n",
              "        buttonEl.style.display =\n",
              "          google.colab.kernel.accessAllowed ? 'block' : 'none';\n",
              "\n",
              "        async function convertToInteractive(key) {\n",
              "          const element = document.querySelector('#df-33071bcf-2068-4697-880f-4f0f13edef5d');\n",
              "          const dataTable =\n",
              "            await google.colab.kernel.invokeFunction('convertToInteractive',\n",
              "                                                     [key], {});\n",
              "          if (!dataTable) return;\n",
              "\n",
              "          const docLinkHtml = 'Like what you see? Visit the ' +\n",
              "            '<a target=\"_blank\" href=https://colab.research.google.com/notebooks/data_table.ipynb>data table notebook</a>'\n",
              "            + ' to learn more about interactive tables.';\n",
              "          element.innerHTML = '';\n",
              "          dataTable['output_type'] = 'display_data';\n",
              "          await google.colab.output.renderOutput(dataTable, element);\n",
              "          const docLink = document.createElement('div');\n",
              "          docLink.innerHTML = docLinkHtml;\n",
              "          element.appendChild(docLink);\n",
              "        }\n",
              "      </script>\n",
              "    </div>\n",
              "  </div>\n",
              "  "
            ]
          },
          "metadata": {},
          "execution_count": 28
        }
      ]
    },
    {
      "cell_type": "code",
      "source": [
        "ax = df_experiment12_result[['train_accuracy', 'validation_accuracy']].plot(figsize=(16,9),)\n",
        "df_experiment12_result[['train_loss', 'validation_loss']].plot(ax=ax.twinx())\n",
        "ax.set_title(f'[Transfer Learning with SqueezeNet + 30 Epochs + SGD + Transform + Image Normalization + Data Augmentation + Batch Size 32] Test Accuracy: {test_accuracy_experiment12:.2f}')"
      ],
      "metadata": {
        "colab": {
          "base_uri": "https://localhost:8080/",
          "height": 587
        },
        "id": "Bnshr4yLNkrK",
        "outputId": "6cffd1bb-646e-4c65-a168-8b524fe3ec9c"
      },
      "execution_count": 29,
      "outputs": [
        {
          "output_type": "execute_result",
          "data": {
            "text/plain": [
              "Text(0.5, 1.0, '[Transfer Learning with SqueezeNet + 30 Epochs + SGD + Transform + Image Normalization + Data Augmentation + Batch Size 32] Test Accuracy: 94.11')"
            ]
          },
          "metadata": {},
          "execution_count": 29
        },
        {
          "output_type": "display_data",
          "data": {
            "text/plain": [
              "<Figure size 1152x648 with 2 Axes>"
            ],
            "image/png": "[encoded data removed]"
          },
          "metadata": {
            "needs_background": "light"
          }
        }
      ]
    },
    {
      "cell_type": "markdown",
      "source": [
        "# **EfficientNet Transfer Learning + 30 Epochs + SGD + Transform + Image Normalization + Data Augmentation + Batch Size 32**"
      ],
      "metadata": {
        "id": "fbuS7ruYauG9"
      }
    },
    {
      "cell_type": "code",
      "source": [
        "!pip install efficientnet_pytorch"
      ],
      "metadata": {
        "colab": {
          "base_uri": "https://localhost:8080/"
        },
        "id": "hhcpVXudYPJo",
        "outputId": "1ed8fcce-f257-4985-f725-9d491a8a7edd"
      },
      "execution_count": 19,
      "outputs": [
        {
          "output_type": "stream",
          "name": "stdout",
          "text": [
            "Looking in indexes: https://pypi.org/simple, https://us-python.pkg.dev/colab-wheels/public/simple/\n",
            "Collecting efficientnet_pytorch\n",
            "  Downloading efficientnet_pytorch-0.7.1.tar.gz (21 kB)\n",
            "  Preparing metadata (setup.py) ... \u001b[?25l\u001b[?25hdone\n",
            "Requirement already satisfied: torch in /usr/local/lib/python3.9/dist-packages (from efficientnet_pytorch) (1.13.1+cu116)\n",
            "Requirement already satisfied: typing-extensions in /usr/local/lib/python3.9/dist-packages (from torch->efficientnet_pytorch) (4.5.0)\n",
            "Building wheels for collected packages: efficientnet_pytorch\n",
            "  Building wheel for efficientnet_pytorch (setup.py) ... \u001b[?25l\u001b[?25hdone\n",
            "  Created wheel for efficientnet_pytorch: filename=efficientnet_pytorch-0.7.1-py3-none-any.whl size=16444 sha256=2ad171f0047baf8e55cf6a66c7db9cf4f0186acd8a1fd1025ece7bcf801045aa\n",
            "  Stored in directory: /root/.cache/pip/wheels/29/16/24/752e89d88d333af39a288421e64d613b5f652918e39ef1f8e3\n",
            "Successfully built efficientnet_pytorch\n",
            "Installing collected packages: efficientnet_pytorch\n",
            "Successfully installed efficientnet_pytorch-0.7.1\n"
          ]
        }
      ]
    },
    {
      "cell_type": "code",
      "source": [
        "from efficientnet_pytorch import EfficientNet\n",
        "efficientnet = EfficientNet.from_pretrained('efficientnet-b1')"
      ],
      "metadata": {
        "colab": {
          "base_uri": "https://localhost:8080/",
          "height": 105,
          "referenced_widgets": [
            "ace00940e5bb4b9ab7529c6987fc40de",
            "1524f015f8df4551b8a75f343de0748f",
            "ff03e126ea7343069563eed0192a52cd",
            "87857924b116439bacc0966fb14d9aa5",
            "88a7950622ba44d6b314c55eaf02f518",
            "c041b33fdf0243d4b604c28288b2201c",
            "96994681d76544a0afa5e45fb9fc4560",
            "077567da0b704b7999002cf799f19bad",
            "a18cea1ec21249c8a580aef73dd39351",
            "1400cefec545437382796a8a0f461753",
            "69a2d51371e34ac9b1fcd32d0368d016"
          ]
        },
        "id": "2Z-R7OPiaN13",
        "outputId": "0895a397-83f3-4af6-b061-150513359a83"
      },
      "execution_count": 20,
      "outputs": [
        {
          "output_type": "stream",
          "name": "stderr",
          "text": [
            "Downloading: \"https://github.com/lukemelas/EfficientNet-PyTorch/releases/download/1.0/efficientnet-b1-f1951068.pth\" to /root/.cache/torch/hub/checkpoints/efficientnet-b1-f1951068.pth\n"
          ]
        },
        {
          "output_type": "display_data",
          "data": {
            "text/plain": [
              "  0%|          | 0.00/30.1M [00:00<?, ?B/s]"
            ],
            "application/vnd.jupyter.widget-view+json": {
              "version_major": 2,
              "version_minor": 0,
              "model_id": "ace00940e5bb4b9ab7529c6987fc40de"
            }
          },
          "metadata": {}
        },
        {
          "output_type": "stream",
          "name": "stdout",
          "text": [
            "Loaded pretrained weights for efficientnet-b1\n"
          ]
        }
      ]
    },
    {
      "cell_type": "code",
      "source": [
        "# Freeze training for all layers\n",
        "for param in efficientnet.parameters():\n",
        "    param.require_grad = False\n",
        "\n",
        "num_ftrs = efficientnet._fc.in_features\n",
        "\n",
        "fc_inputs = efficientnet._fc.in_features\n",
        "efficientnet.fc = nn.Sequential(\n",
        "    nn.Linear(fc_inputs, 256),\n",
        "    nn.ReLU(),\n",
        "    nn.Dropout(0.4),\n",
        "    nn.Linear(256, 12), \n",
        "    nn.LogSoftmax(dim=1) # For using NLLLoss()\n",
        ")"
      ],
      "metadata": {
        "id": "n87eXOqMYPQt"
      },
      "execution_count": 21,
      "outputs": []
    },
    {
      "cell_type": "code",
      "source": [
        "image_size = (224, 224)\n",
        "batch_size = 32\n",
        "\n",
        "train_trans = transforms.Compose([\n",
        "    transforms.transforms.RandomHorizontalFlip(),\n",
        "    transforms.transforms.RandomRotation(180),\n",
        "    transforms.transforms.RandomVerticalFlip(),\n",
        "    transforms.Resize(size=image_size),\n",
        "    transforms.ToTensor(),\n",
        "    transforms.Normalize(mean_img, std_img),\n",
        "])\n",
        "validation_trans = transforms.Compose([\n",
        "    transforms.Resize(size=image_size),\n",
        "    transforms.ToTensor(),\n",
        "    transforms.Normalize(mean_img, std_img)\n",
        "])\n",
        "\n",
        "train_set = SeedlingDataset(X_train.file, y_train, '/content/plants/train/', transform=train_trans)\n",
        "valid_set = SeedlingDataset(X_val.file, y_val, '/content/plants/train/', transform=validation_trans)\n",
        "test_set = SeedlingDataset(X_test.file, y_test, '/content/plants/train/', transform=validation_trans)\n",
        "\n",
        "train_loader = DataLoader(train_set, batch_size=batch_size, shuffle=True, num_workers=0)\n",
        "validation_loader = DataLoader(valid_set, batch_size=batch_size, shuffle=True, num_workers=0)\n",
        "\n",
        "learning_rate = 1e-3\n",
        "efficientnet_model = efficientnet.cuda()\n",
        "criterion = nn.CrossEntropyLoss()\n",
        "optimizer = optim.SGD(efficientnet_model.parameters(), lr=0.001, momentum=0.9)\n",
        "\n",
        "train_set = SeedlingDataset(X_train.file, y_train, '/content/plants/train/', transform=train_trans)\n",
        "valid_set = SeedlingDataset(X_val.file, y_val, '/content/plants/train/', transform=validation_trans)\n",
        "test_set = SeedlingDataset(X_test.file, y_test, '/content/plants/train/', transform=validation_trans)\n",
        "\n",
        "loaders = {\n",
        "    'train': DataLoader(train_set, batch_size=batch_size, shuffle=True, num_workers=0),\n",
        "    'validation': DataLoader(valid_set, batch_size=batch_size, shuffle=True, num_workers=0),\n",
        "    'test': DataLoader(test_set, batch_size=batch_size, shuffle=True, num_workers=0)\n",
        "}\n",
        "epochs = 30\n",
        "\n",
        "df_experiment13_result, test_accuracy_experiment13 = run_train_process(epochs, loaders, efficientnet_model, optimizer, criterion)\n",
        "df_experiment13_result"
      ],
      "metadata": {
        "colab": {
          "base_uri": "https://localhost:8080/",
          "height": 1000
        },
        "id": "_Kax0hvjYTGp",
        "outputId": "f8fe8e84-9c50-440f-e740-1f8116fad775"
      },
      "execution_count": 22,
      "outputs": [
        {
          "output_type": "stream",
          "name": "stderr",
          "text": [
            "\r  0%|          | 0/30 [00:00<?, ?it/s]<ipython-input-15-bd074e5d3251>:34: UserWarning: volatile was removed and now has no effect. Use `with torch.no_grad():` instead.\n",
            "  data, target = Variable(data, volatile=True), Variable(target)\n",
            "  3%|▎         | 1/30 [01:38<47:27, 98.18s/it]"
          ]
        },
        {
          "output_type": "stream",
          "name": "stdout",
          "text": [
            "[0] Train Accuracy: 6.08553 , Validation Accuracy: 22.89474\n"
          ]
        },
        {
          "output_type": "stream",
          "name": "stderr",
          "text": [
            " 20%|██        | 6/30 [08:40<34:04, 85.20s/it]"
          ]
        },
        {
          "output_type": "stream",
          "name": "stdout",
          "text": [
            "[5] Train Accuracy: 88.84869 , Validation Accuracy: 86.57895\n"
          ]
        },
        {
          "output_type": "stream",
          "name": "stderr",
          "text": [
            " 37%|███▋      | 11/30 [15:43<26:51, 84.80s/it]"
          ]
        },
        {
          "output_type": "stream",
          "name": "stdout",
          "text": [
            "[10] Train Accuracy: 92.63158 , Validation Accuracy: 88.94737\n"
          ]
        },
        {
          "output_type": "stream",
          "name": "stderr",
          "text": [
            " 53%|█████▎    | 16/30 [22:44<19:39, 84.28s/it]"
          ]
        },
        {
          "output_type": "stream",
          "name": "stdout",
          "text": [
            "[15] Train Accuracy: 94.40790 , Validation Accuracy: 92.23684\n"
          ]
        },
        {
          "output_type": "stream",
          "name": "stderr",
          "text": [
            " 70%|███████   | 21/30 [29:49<12:43, 84.84s/it]"
          ]
        },
        {
          "output_type": "stream",
          "name": "stdout",
          "text": [
            "[20] Train Accuracy: 95.49342 , Validation Accuracy: 91.71053\n"
          ]
        },
        {
          "output_type": "stream",
          "name": "stderr",
          "text": [
            " 87%|████████▋ | 26/30 [36:51<05:38, 84.53s/it]"
          ]
        },
        {
          "output_type": "stream",
          "name": "stdout",
          "text": [
            "[25] Train Accuracy: 96.77631 , Validation Accuracy: 91.71053\n"
          ]
        },
        {
          "output_type": "stream",
          "name": "stderr",
          "text": [
            "100%|██████████| 30/30 [42:29<00:00, 84.97s/it]\n"
          ]
        },
        {
          "output_type": "execute_result",
          "data": {
            "text/plain": [
              "    train_loss  train_accuracy  validation_loss  validation_accuracy\n",
              "0     6.123090        6.085526         4.522045            22.894737\n",
              "1     2.699478       52.401318         1.570646            70.657895\n",
              "2     0.951338       76.973686         0.808564            80.526316\n",
              "3     0.549807       85.164474         0.616456            82.763158\n",
              "4     0.434155       86.875000         0.519757            85.131579\n",
              "5     0.349278       88.848686         0.453668            86.578947\n",
              "6     0.324408       89.111839         0.392992            88.815789\n",
              "7     0.281546       91.118423         0.337196            89.605263\n",
              "8     0.225614       92.467102         0.344482            89.210526\n",
              "9     0.227255       92.467102         0.363240            89.605263\n",
              "10    0.223251       92.631577         0.321079            88.947368\n",
              "11    0.200868       93.322365         0.292400            90.394737\n",
              "12    0.193731       93.651314         0.299647            90.526316\n",
              "13    0.184729       93.651314         0.266874            89.868421\n",
              "14    0.181891       93.980263         0.250221            92.894737\n",
              "15    0.157317       94.407898         0.260549            92.236842\n",
              "16    0.153604       94.967102         0.261783            91.710526\n",
              "17    0.145678       95.032898         0.236752            91.710526\n",
              "18    0.140649       95.065788         0.248149            91.973684\n",
              "19    0.134989       95.065788         0.226570            92.368421\n",
              "20    0.128545       95.493423         0.238109            91.710526\n",
              "21    0.121775       96.282898         0.205954            92.894737\n",
              "22    0.113391       96.414474         0.228851            92.500000\n",
              "23    0.109531       96.546051         0.227717            92.894737\n",
              "24    0.110325       96.118423         0.197708            93.684211\n",
              "25    0.099007       96.776314         0.224545            91.710526\n",
              "26    0.111422       96.447365         0.196103            93.947368\n",
              "27    0.091548       96.973686         0.215275            93.289474\n",
              "28    0.086920       97.269737         0.206233            93.552632\n",
              "29    0.089972       97.171051         0.219213            93.815789"
            ],
            "text/html": [
              "\n",
              "  <div id=\"df-59a78edf-ba0a-4042-b1b1-f69d67f68b28\">\n",
              "    <div class=\"colab-df-container\">\n",
              "      <div>\n",
              "<style scoped>\n",
              "    .dataframe tbody tr th:only-of-type {\n",
              "        vertical-align: middle;\n",
              "    }\n",
              "\n",
              "    .dataframe tbody tr th {\n",
              "        vertical-align: top;\n",
              "    }\n",
              "\n",
              "    .dataframe thead th {\n",
              "        text-align: right;\n",
              "    }\n",
              "</style>\n",
              "<table border=\"1\" class=\"dataframe\">\n",
              "  <thead>\n",
              "    <tr style=\"text-align: right;\">\n",
              "      <th></th>\n",
              "      <th>train_loss</th>\n",
              "      <th>train_accuracy</th>\n",
              "      <th>validation_loss</th>\n",
              "      <th>validation_accuracy</th>\n",
              "    </tr>\n",
              "  </thead>\n",
              "  <tbody>\n",
              "    <tr>\n",
              "      <th>0</th>\n",
              "      <td>6.123090</td>\n",
              "      <td>6.085526</td>\n",
              "      <td>4.522045</td>\n",
              "      <td>22.894737</td>\n",
              "    </tr>\n",
              "    <tr>\n",
              "      <th>1</th>\n",
              "      <td>2.699478</td>\n",
              "      <td>52.401318</td>\n",
              "      <td>1.570646</td>\n",
              "      <td>70.657895</td>\n",
              "    </tr>\n",
              "    <tr>\n",
              "      <th>2</th>\n",
              "      <td>0.951338</td>\n",
              "      <td>76.973686</td>\n",
              "      <td>0.808564</td>\n",
              "      <td>80.526316</td>\n",
              "    </tr>\n",
              "    <tr>\n",
              "      <th>3</th>\n",
              "      <td>0.549807</td>\n",
              "      <td>85.164474</td>\n",
              "      <td>0.616456</td>\n",
              "      <td>82.763158</td>\n",
              "    </tr>\n",
              "    <tr>\n",
              "      <th>4</th>\n",
              "      <td>0.434155</td>\n",
              "      <td>86.875000</td>\n",
              "      <td>0.519757</td>\n",
              "      <td>85.131579</td>\n",
              "    </tr>\n",
              "    <tr>\n",
              "      <th>5</th>\n",
              "      <td>0.349278</td>\n",
              "      <td>88.848686</td>\n",
              "      <td>0.453668</td>\n",
              "      <td>86.578947</td>\n",
              "    </tr>\n",
              "    <tr>\n",
              "      <th>6</th>\n",
              "      <td>0.324408</td>\n",
              "      <td>89.111839</td>\n",
              "      <td>0.392992</td>\n",
              "      <td>88.815789</td>\n",
              "    </tr>\n",
              "    <tr>\n",
              "      <th>7</th>\n",
              "      <td>0.281546</td>\n",
              "      <td>91.118423</td>\n",
              "      <td>0.337196</td>\n",
              "      <td>89.605263</td>\n",
              "    </tr>\n",
              "    <tr>\n",
              "      <th>8</th>\n",
              "      <td>0.225614</td>\n",
              "      <td>92.467102</td>\n",
              "      <td>0.344482</td>\n",
              "      <td>89.210526</td>\n",
              "    </tr>\n",
              "    <tr>\n",
              "      <th>9</th>\n",
              "      <td>0.227255</td>\n",
              "      <td>92.467102</td>\n",
              "      <td>0.363240</td>\n",
              "      <td>89.605263</td>\n",
              "    </tr>\n",
              "    <tr>\n",
              "      <th>10</th>\n",
              "      <td>0.223251</td>\n",
              "      <td>92.631577</td>\n",
              "      <td>0.321079</td>\n",
              "      <td>88.947368</td>\n",
              "    </tr>\n",
              "    <tr>\n",
              "      <th>11</th>\n",
              "      <td>0.200868</td>\n",
              "      <td>93.322365</td>\n",
              "      <td>0.292400</td>\n",
              "      <td>90.394737</td>\n",
              "    </tr>\n",
              "    <tr>\n",
              "      <th>12</th>\n",
              "      <td>0.193731</td>\n",
              "      <td>93.651314</td>\n",
              "      <td>0.299647</td>\n",
              "      <td>90.526316</td>\n",
              "    </tr>\n",
              "    <tr>\n",
              "      <th>13</th>\n",
              "      <td>0.184729</td>\n",
              "      <td>93.651314</td>\n",
              "      <td>0.266874</td>\n",
              "      <td>89.868421</td>\n",
              "    </tr>\n",
              "    <tr>\n",
              "      <th>14</th>\n",
              "      <td>0.181891</td>\n",
              "      <td>93.980263</td>\n",
              "      <td>0.250221</td>\n",
              "      <td>92.894737</td>\n",
              "    </tr>\n",
              "    <tr>\n",
              "      <th>15</th>\n",
              "      <td>0.157317</td>\n",
              "      <td>94.407898</td>\n",
              "      <td>0.260549</td>\n",
              "      <td>92.236842</td>\n",
              "    </tr>\n",
              "    <tr>\n",
              "      <th>16</th>\n",
              "      <td>0.153604</td>\n",
              "      <td>94.967102</td>\n",
              "      <td>0.261783</td>\n",
              "      <td>91.710526</td>\n",
              "    </tr>\n",
              "    <tr>\n",
              "      <th>17</th>\n",
              "      <td>0.145678</td>\n",
              "      <td>95.032898</td>\n",
              "      <td>0.236752</td>\n",
              "      <td>91.710526</td>\n",
              "    </tr>\n",
              "    <tr>\n",
              "      <th>18</th>\n",
              "      <td>0.140649</td>\n",
              "      <td>95.065788</td>\n",
              "      <td>0.248149</td>\n",
              "      <td>91.973684</td>\n",
              "    </tr>\n",
              "    <tr>\n",
              "      <th>19</th>\n",
              "      <td>0.134989</td>\n",
              "      <td>95.065788</td>\n",
              "      <td>0.226570</td>\n",
              "      <td>92.368421</td>\n",
              "    </tr>\n",
              "    <tr>\n",
              "      <th>20</th>\n",
              "      <td>0.128545</td>\n",
              "      <td>95.493423</td>\n",
              "      <td>0.238109</td>\n",
              "      <td>91.710526</td>\n",
              "    </tr>\n",
              "    <tr>\n",
              "      <th>21</th>\n",
              "      <td>0.121775</td>\n",
              "      <td>96.282898</td>\n",
              "      <td>0.205954</td>\n",
              "      <td>92.894737</td>\n",
              "    </tr>\n",
              "    <tr>\n",
              "      <th>22</th>\n",
              "      <td>0.113391</td>\n",
              "      <td>96.414474</td>\n",
              "      <td>0.228851</td>\n",
              "      <td>92.500000</td>\n",
              "    </tr>\n",
              "    <tr>\n",
              "      <th>23</th>\n",
              "      <td>0.109531</td>\n",
              "      <td>96.546051</td>\n",
              "      <td>0.227717</td>\n",
              "      <td>92.894737</td>\n",
              "    </tr>\n",
              "    <tr>\n",
              "      <th>24</th>\n",
              "      <td>0.110325</td>\n",
              "      <td>96.118423</td>\n",
              "      <td>0.197708</td>\n",
              "      <td>93.684211</td>\n",
              "    </tr>\n",
              "    <tr>\n",
              "      <th>25</th>\n",
              "      <td>0.099007</td>\n",
              "      <td>96.776314</td>\n",
              "      <td>0.224545</td>\n",
              "      <td>91.710526</td>\n",
              "    </tr>\n",
              "    <tr>\n",
              "      <th>26</th>\n",
              "      <td>0.111422</td>\n",
              "      <td>96.447365</td>\n",
              "      <td>0.196103</td>\n",
              "      <td>93.947368</td>\n",
              "    </tr>\n",
              "    <tr>\n",
              "      <th>27</th>\n",
              "      <td>0.091548</td>\n",
              "      <td>96.973686</td>\n",
              "      <td>0.215275</td>\n",
              "      <td>93.289474</td>\n",
              "    </tr>\n",
              "    <tr>\n",
              "      <th>28</th>\n",
              "      <td>0.086920</td>\n",
              "      <td>97.269737</td>\n",
              "      <td>0.206233</td>\n",
              "      <td>93.552632</td>\n",
              "    </tr>\n",
              "    <tr>\n",
              "      <th>29</th>\n",
              "      <td>0.089972</td>\n",
              "      <td>97.171051</td>\n",
              "      <td>0.219213</td>\n",
              "      <td>93.815789</td>\n",
              "    </tr>\n",
              "  </tbody>\n",
              "</table>\n",
              "</div>\n",
              "      <button class=\"colab-df-convert\" onclick=\"convertToInteractive('df-59a78edf-ba0a-4042-b1b1-f69d67f68b28')\"\n",
              "              title=\"Convert this dataframe to an interactive table.\"\n",
              "              style=\"display:none;\">\n",
              "        \n",
              "  <svg xmlns=\"http://www.w3.org/2000/svg\" height=\"24px\"viewBox=\"0 0 24 24\"\n",
              "       width=\"24px\">\n",
              "    <path d=\"M0 0h24v24H0V0z\" fill=\"none\"/>\n",
              "    <path d=\"M18.56 5.44l.94 2.06.94-2.06 2.06-.94-2.06-.94-.94-2.06-.94 2.06-2.06.94zm-11 1L8.5 8.5l.94-2.06 2.06-.94-2.06-.94L8.5 2.5l-.94 2.06-2.06.94zm10 10l.94 2.06.94-2.06 2.06-.94-2.06-.94-.94-2.06-.94 2.06-2.06.94z\"/><path d=\"M17.41 7.96l-1.37-1.37c-.4-.4-.92-.59-1.43-.59-.52 0-1.04.2-1.43.59L10.3 9.45l-7.72 7.72c-.78.78-.78 2.05 0 2.83L4 21.41c.39.39.9.59 1.41.59.51 0 1.02-.2 1.41-.59l7.78-7.78 2.81-2.81c.8-.78.8-2.07 0-2.86zM5.41 20L4 18.59l7.72-7.72 1.47 1.35L5.41 20z\"/>\n",
              "  </svg>\n",
              "      </button>\n",
              "      \n",
              "  <style>\n",
              "    .colab-df-container {\n",
              "      display:flex;\n",
              "      flex-wrap:wrap;\n",
              "      gap: 12px;\n",
              "    }\n",
              "\n",
              "    .colab-df-convert {\n",
              "      background-color: #E8F0FE;\n",
              "      border: none;\n",
              "      border-radius: 50%;\n",
              "      cursor: pointer;\n",
              "      display: none;\n",
              "      fill: #1967D2;\n",
              "      height: 32px;\n",
              "      padding: 0 0 0 0;\n",
              "      width: 32px;\n",
              "    }\n",
              "\n",
              "    .colab-df-convert:hover {\n",
              "      background-color: #E2EBFA;\n",
              "      box-shadow: 0px 1px 2px rgba(60, 64, 67, 0.3), 0px 1px 3px 1px rgba(60, 64, 67, 0.15);\n",
              "      fill: #174EA6;\n",
              "    }\n",
              "\n",
              "    [theme=dark] .colab-df-convert {\n",
              "      background-color: #3B4455;\n",
              "      fill: #D2E3FC;\n",
              "    }\n",
              "\n",
              "    [theme=dark] .colab-df-convert:hover {\n",
              "      background-color: #434B5C;\n",
              "      box-shadow: 0px 1px 3px 1px rgba(0, 0, 0, 0.15);\n",
              "      filter: drop-shadow(0px 1px 2px rgba(0, 0, 0, 0.3));\n",
              "      fill: #FFFFFF;\n",
              "    }\n",
              "  </style>\n",
              "\n",
              "      <script>\n",
              "        const buttonEl =\n",
              "          document.querySelector('#df-59a78edf-ba0a-4042-b1b1-f69d67f68b28 button.colab-df-convert');\n",
              "        buttonEl.style.display =\n",
              "          google.colab.kernel.accessAllowed ? 'block' : 'none';\n",
              "\n",
              "        async function convertToInteractive(key) {\n",
              "          const element = document.querySelector('#df-59a78edf-ba0a-4042-b1b1-f69d67f68b28');\n",
              "          const dataTable =\n",
              "            await google.colab.kernel.invokeFunction('convertToInteractive',\n",
              "                                                     [key], {});\n",
              "          if (!dataTable) return;\n",
              "\n",
              "          const docLinkHtml = 'Like what you see? Visit the ' +\n",
              "            '<a target=\"_blank\" href=https://colab.research.google.com/notebooks/data_table.ipynb>data table notebook</a>'\n",
              "            + ' to learn more about interactive tables.';\n",
              "          element.innerHTML = '';\n",
              "          dataTable['output_type'] = 'display_data';\n",
              "          await google.colab.output.renderOutput(dataTable, element);\n",
              "          const docLink = document.createElement('div');\n",
              "          docLink.innerHTML = docLinkHtml;\n",
              "          element.appendChild(docLink);\n",
              "        }\n",
              "      </script>\n",
              "    </div>\n",
              "  </div>\n",
              "  "
            ]
          },
          "metadata": {},
          "execution_count": 22
        }
      ]
    },
    {
      "cell_type": "code",
      "source": [
        "ax = df_experiment13_result[['train_accuracy', 'validation_accuracy']].plot(figsize=(16,9),)\n",
        "df_experiment13_result[['train_loss', 'validation_loss']].plot(ax=ax.twinx())\n",
        "ax.set_title(f'[Transfer Learning with EfficientNet + 30 Epochs + SGD + Transform + Image Normalization + Data Augmentation + Batch Size 32] Test Accuracy: {test_accuracy_experiment13:.2f}')"
      ],
      "metadata": {
        "colab": {
          "base_uri": "https://localhost:8080/",
          "height": 589
        },
        "id": "ouMWTPXpYTNg",
        "outputId": "f37fe8a8-321f-41d9-fc20-3a34baa2d4a0"
      },
      "execution_count": 23,
      "outputs": [
        {
          "output_type": "execute_result",
          "data": {
            "text/plain": [
              "Text(0.5, 1.0, '[Transfer Learning with EfficientNet + 30 Epochs + SGD + Transform + Image Normalization + Data Augmentation + Batch Size 32] Test Accuracy: 91.26')"
            ]
          },
          "metadata": {},
          "execution_count": 23
        },
        {
          "output_type": "display_data",
          "data": {
            "text/plain": [
              "<Figure size 1152x648 with 2 Axes>"
            ],
            "image/png": "[encoded data removed]"
          },
          "metadata": {
            "needs_background": "light"
          }
        }
      ]
    },
    {
      "cell_type": "code",
      "source": [],
      "metadata": {
        "id": "btdJ49OtNq0x"
      },
      "execution_count": null,
      "outputs": []
    },
    {
      "cell_type": "code",
      "source": [],
      "metadata": {
        "id": "g8ZSarAMNq22"
      },
      "execution_count": null,
      "outputs": []
    },
    {
      "cell_type": "code",
      "source": [],
      "metadata": {
        "id": "hQyQEeoKNkth"
      },
      "execution_count": null,
      "outputs": []
    }
  ]
}